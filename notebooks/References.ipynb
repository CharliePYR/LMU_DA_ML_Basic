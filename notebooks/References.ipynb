{
 "cells": [
  {
   "cell_type": "markdown",
   "metadata": {},
   "source": [
    "## References\n",
    "Extremely active field in recent years, many books, online courses, youtube videos, ...\n",
    "\n",
    "### Books\n",
    "*  **[Python Data Science Handbook](http://shop.oreilly.com/product/0636920034919.do)** by Jake VanderPlas. A substantial part of this course is based on this book. Broad overview on the subject, \n",
    "covers Python packages *numpy, matplotlib, pandas and scikit-learn*.  A big plus is that all material presented in the book is readily available as Jupyter notebooks on **[github](https://github.com/jakevdp/PythonDataScienceHandbook)** \n",
    "  * Just download with git to have it available:  \n",
    "    `git clone https://github.com/jakevdp/PythonDataScienceHandbook`\n",
    "*  **[Data science from Scratch](http://shop.oreilly.com/product/0636920033400.do)** by Joel Grus.  \n",
    "  This book does go into details how to program machine learning models in Python. \n",
    "*  **[Introduction to Machine Learning with Python](http://shop.oreilly.com/product/0636920030515.do)** by Sarah Guido, Andreas Müller. Focus on ML with *scikit-learn*. More detailed discussion of Learning models.\n",
    "Also provides repository with example-notebooks.\n",
    "* **[Python for Data Analysis](http://shop.oreilly.com/product/0636920023784.do)** by Wes McKinney, Book about Pandas from Pandas inventor\n",
    "* **[Python Machine Learning](https://sebastianraschka.com/books/#python-machine-learning-3rd-edition)** by S. Raschka, V. Mirjalili, Detailed, more advanced Book on ML with Python, all examples as notebooks. \n",
    "\n",
    "### Theoretical background and advance material\n",
    "*  **Pattern Recognition and Machine Learning** by C.M. Bishop.\n",
    "*  **The Elements of Statistical Learning** by T. Hastie et al.\n",
    "*  **[Deep learning](http://www.deeplearningbook.org/)**, Goodfellow et al.\n",
    "\n",
    "### Online info\n",
    "* **[Python 3 documentation](https://docs.python.org/3/)**\n",
    "* **[SciPy Homepage](http://www.scipy.org/)**\n",
    "* **[SciPy Lecture Notes](http://www.scipy-lectures.org/index.html)** Nice tutorial for Scientific Python - from basic to advanced \n",
    "* **[Kaggle](https://www.kaggle.com/)** is a fantastic source for information on data science\n",
    "  * provides tutorials, example datasets, challenges, ...\n",
    "  * from basic introduction to highly advanced stuff\n",
    "\n",
    "* **https://github.com/terryum/awesome-deep-learning-papers** many more links to recent paper, books, videos, blogs, ...\n",
    "\n",
    "Further references see Course **[Software Handwerkszeug](http://www-static.etp.physik.uni-muenchen.de/kurs/Computing/sw/node5.html)**\n",
    "\n",
    "***\n"
   ]
  },
  {
   "cell_type": "code",
   "execution_count": null,
   "metadata": {},
   "outputs": [],
   "source": []
  }
 ],
 "metadata": {
  "anaconda-cloud": {},
  "kernelspec": {
   "display_name": "Python 3 (ipykernel)",
   "language": "python",
   "name": "python3"
  },
  "language_info": {
   "codemirror_mode": {
    "name": "ipython",
    "version": 3
   },
   "file_extension": ".py",
   "mimetype": "text/x-python",
   "name": "python",
   "nbconvert_exporter": "python",
   "pygments_lexer": "ipython3",
   "version": "3.9.12"
  },
  "toc": {
   "base_numbering": 1,
   "nav_menu": {},
   "number_sections": true,
   "sideBar": true,
   "skip_h1_title": false,
   "title_cell": "Table of Contents",
   "title_sidebar": "Contents",
   "toc_cell": true,
   "toc_position": {},
   "toc_section_display": true,
   "toc_window_display": true
  }
 },
 "nbformat": 4,
 "nbformat_minor": 4
}
