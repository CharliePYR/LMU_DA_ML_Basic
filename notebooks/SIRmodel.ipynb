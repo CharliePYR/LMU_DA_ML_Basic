{
 "cells": [
  {
   "cell_type": "markdown",
   "id": "4f938792",
   "metadata": {},
   "source": [
    "## Problem 1: Mathematical model of an infectious disease\n",
    "\n",
    "### Background\n",
    "The SIR model (developed by W. O. Kermack and A. G. McKendrick in 1927) is one of the simplest variants in a group of [compartmental models](https://en.wikipedia.org/wiki/Compartmental_models_in_epidemiology) used in theoretical biology to model how an infectious disease spreads in a population in order to determine the likely outcome of an epidemic. The variables S, I and R represent the number of people in the compartments of the population and the differential equations describe the transition rates and thus flow between the compartments over time. When based on ODEs, the models are deterministic. (ODE = [ordinary differential equation](https://en.wikipedia.org/wiki/Ordinary_differential_equation) = equality involving a function and its derivatives (may be of higher order but not partial derivatives).) For small populations, stochastic models that use Monte-Carlo methods are more realistic.\n",
    "\n",
    "### The SIR model\n",
    "Consider the [SIR model](https://de.wikipedia.org/wiki/SIR-Modell) characterized through the following coupled system of first-order ordinary differential equations:\n",
    "* ${\\frac {dS}{dt}}=-c{\\frac {SI}{N}}$ \n",
    "* ${\\frac {dI}{dt}}=c{\\frac {SI}{N}}-wI$\n",
    "* ${\\frac {dR}{dt}}=wI$\n",
    "\n",
    "with the boundary condition that the total number of individuals N, which is the sum of S, I, and R, is constant\n",
    "* $N=S+I+R$\n",
    "\n",
    "(Obviously, the boundary condition is trivially fulfilled as the sum of the derivatives is zero, i.e. no births or deaths are included in this version of the model.)\n",
    "\n",
    "The variables and parameters of the model are:\n",
    "* $S$: number of susceptible individuals\n",
    "* $I$: number of infected individuals\n",
    "* $R$: number of recovered (resistant / removed) individuals\n",
    "* $c$: rate of disease transmission\n",
    "* $w$: rate of recovery \n",
    "* $t$: time (independent variable)"
   ]
  },
  {
   "cell_type": "markdown",
   "id": "f49cffc3",
   "metadata": {},
   "source": [
    "Assumptions:\n",
    "* every individual is infected only once (and either dies or becomes immune -- these are treated alike)\n",
    "* infected individuals are infecteous\n",
    "* rates $c$ and $w$ are constant\n",
    "* birth and general death rates can be neglected on the time scales considered"
   ]
  },
  {
   "cell_type": "markdown",
   "id": "30a8d8aa",
   "metadata": {},
   "source": [
    "#### Basic reproduction number\n",
    "The basic reproduction number $R_0$ is given by $R_0 = c/w$. It describes the expected number of new infections caused by one infected individual (in a population where all subjects are susceptible, i.e. at the beginning of the epidemic).\n",
    "$1/w$ can be interpreted as the average duration an individual is infecteous.\n",
    "\n",
    "#### Variations\n",
    "A more complex model with an interactive interface can be found [here](https://gabgoh.github.io/COVID/index.html). \n",
    "It is based on SEIR with an additional compartment E = Exposed, and includes deaths and hospitalization. In addition to different sets of compartments, one can also consider spatial dependencies in addition to time."
   ]
  },
  {
   "cell_type": "code",
   "execution_count": null,
   "id": "4ad03929",
   "metadata": {},
   "outputs": [],
   "source": []
  },
  {
   "cell_type": "markdown",
   "id": "18596e92",
   "metadata": {},
   "source": [
    "Your tasks:\n",
    "* Solve this system of equations using methods presented in the course and plot S, I and R as a function of time.\n",
    "* Change the parameters c and w and study their impact.\n",
    "* Optional: Make the model more dynamic by e.g. introducing a birth and a death rate, or vaccination.\n",
    "\n",
    "Homework 👆 Try to solve at least the non-optional part. Solutions to this will be discussed tomorrow morning."
   ]
  },
  {
   "cell_type": "markdown",
   "id": "6f3785a5",
   "metadata": {},
   "source": [
    "## Problem 2: Understanding and working with a real-life dataset"
   ]
  },
  {
   "cell_type": "markdown",
   "id": "4bc93039",
   "metadata": {},
   "source": [
    "Here, we are going to work with two datasets that contain the daily new cases of reported COVID-19 infections. The purpose of this exercise is to practice the use of the Python tools that we encountered in the course and how to apply them to work with real-life data and gain experience what problems might occur.\n"
   ]
  },
  {
   "cell_type": "code",
   "execution_count": null,
   "id": "c1df6858",
   "metadata": {},
   "outputs": [],
   "source": [
    "### imports\n",
    "import numpy as np\n",
    "import pandas as pd\n",
    "import matplotlib.pyplot as plt\n",
    "from requests_cache import CachedSession # if you get an error, install this with: pip install requests_cache"
   ]
  },
  {
   "cell_type": "markdown",
   "id": "a0c57268",
   "metadata": {},
   "source": [
    "To avoid that the data is downloaded every time we run the notebook, we will use a module for caching that will create a local copy of the URLs we retrieve and only refetch them when a certain time has passed. "
   ]
  },
  {
   "cell_type": "code",
   "execution_count": null,
   "id": "e140a8e2",
   "metadata": {},
   "outputs": [],
   "source": [
    "### set up cached session\n",
    "session = CachedSession('../data/cache_plot_corona_cases', backend='sqlite', expire_after = 86400)\n",
    "\n",
    "### helper functions\n",
    "def SaveURL(url, path):\n",
    "  with open(path, \"w\") as outf:\n",
    "    outf.write(GetURL(url))\n",
    "    \n",
    "def GetURL(url):\n",
    "  response = session.get(url)\n",
    "  print(f\"Loaded {url} from cache: {response.from_cache}\")\n",
    "  if response.status_code != 200:\n",
    "    print(f\"Request failed with code {response.status_code}\")\n",
    "    return None\n",
    "  else:\n",
    "    return response.text"
   ]
  },
  {
   "cell_type": "markdown",
   "id": "b6ba3481",
   "metadata": {},
   "source": [
    "We will use 2 datasets, one provided by the Robert-Koch-Institut (RKI) and one from the Johns Hopkins University (JHU). Both are in CSV format."
   ]
  },
  {
   "cell_type": "code",
   "execution_count": null,
   "id": "d2b5b00a",
   "metadata": {},
   "outputs": [],
   "source": [
    "def LoadDataset(url, local_path, date_column, cases_column):\n",
    "  SaveURL(url, local_path)\n",
    "  df = pd.read_csv(local_path, parse_dates = [date_column])\\\n",
    "         .set_index(date_column)\n",
    "  print(\"Last data point:\")\n",
    "  print(df.tail(1)[cases_column])\n",
    "  return df"
   ]
  },
  {
   "cell_type": "code",
   "execution_count": null,
   "id": "a3e06341",
   "metadata": {},
   "outputs": [],
   "source": [
    "# RKI, documentation: https://github.com/robert-koch-institut/SARS-CoV-2-Nowcasting_und_-R-Schaetzung/#readme\n",
    "dfr = LoadDataset(\"https://raw.githubusercontent.com/robert-koch-institut/SARS-CoV-2-Nowcasting_und_-R-Schaetzung/main/Nowcast_R_aktuell.csv\", \n",
    "                  \"/tmp/Nowcast_R_aktuell.csv\",\n",
    "                  \"Datum\",\n",
    "                  \"PS_COVID_Faelle\")\n",
    "# JHU, documentation: https://github.com/owid/covid-19-data/tree/master/public/data#readme\n",
    "dfj = LoadDataset(\"https://raw.githubusercontent.com/owid/covid-19-data/master/public/data/jhu/new_cases.csv\", \n",
    "                  \"/tmp/new_cases.csv\",\n",
    "                  \"date\",\n",
    "                  \"Germany\")"
   ]
  },
  {
   "cell_type": "raw",
   "id": "74c77f3f",
   "metadata": {},
   "source": []
  },
  {
   "cell_type": "markdown",
   "id": "3e1b5259",
   "metadata": {},
   "source": [
    "Your tasks:\n",
    "1. As a first step, plot the data to see whether it makes sense intuitively. What differences between the datasets do you observe?\n",
    "2. Have a look at the README files to understand the features of the datasets:\n",
    "  * [README for RKI data](https://github.com/robert-koch-institut/SARS-CoV-2-Nowcasting_und_-R-Schaetzung/#readme)\n",
    "    * \"SARS-CoV-2-Nowcasting und -R-Schätzung\"\n",
    "    * PS_COVID_Faelle: \"Punktschätzer der Anzahl an Neuerkrankungen (ohne Glättung)\")\n",
    "  * [README for JHU data](https://github.com/owid/covid-19-data/tree/master/public/data#readme)\n",
    "    * \"Data on COVID-19 (coronavirus) by Our World in Data\"\n",
    "    * new_cases: \"New confirmed cases of COVID-19. Counts can include probable cases, where reported. In rare cases where our source reports a negative daily change due to a data correction, we set this metric to NA.\"\n",
    "3. Both datasets have strong fluctuations. Think about possible reasons. Do you think these are real? How can you fix these?\")"
   ]
  },
  {
   "cell_type": "raw",
   "id": "22edba41",
   "metadata": {},
   "source": []
  },
  {
   "cell_type": "markdown",
   "id": "8d0c9567",
   "metadata": {},
   "source": [
    "### More numbers: per state\n",
    "To compare numbers in the constituent states of Germany we can use this dataset ([README](https://github.com/jgehrcke/covid-19-germany-gae/#readme)):"
   ]
  },
  {
   "cell_type": "code",
   "execution_count": null,
   "id": "659c008d",
   "metadata": {},
   "outputs": [],
   "source": [
    "dfbl = LoadDataset(\"https://raw.githubusercontent.com/jgehrcke/covid-19-germany-gae/master/cases-rl-crowdsource-by-state.csv\",\n",
    "            \"/tmp/cases-rl-crowdsource-by-state.csv\",\n",
    "            \"time_iso8601\",\n",
    "            \"sum_cases\")"
   ]
  },
  {
   "cell_type": "code",
   "execution_count": null,
   "id": "f4858838",
   "metadata": {},
   "outputs": [],
   "source": [
    "dfbl.columns"
   ]
  },
  {
   "cell_type": "code",
   "execution_count": null,
   "id": "c4979f8a",
   "metadata": {},
   "outputs": [],
   "source": [
    "dfbl.loc[:, \"DE-BB\":\"DE-TH\"].plot(figsize=(15, 8));"
   ]
  },
  {
   "cell_type": "markdown",
   "id": "3c22293c",
   "metadata": {},
   "source": [
    "Why does DE-NW have the highest incidence?"
   ]
  }
 ],
 "metadata": {
  "@webio": {
   "lastCommId": null,
   "lastKernelId": null
  },
  "kernelspec": {
   "display_name": "Python 3 (ipykernel)",
   "language": "python",
   "name": "python3"
  },
  "language_info": {
   "codemirror_mode": {
    "name": "ipython",
    "version": 3
   },
   "file_extension": ".py",
   "mimetype": "text/x-python",
   "name": "python",
   "nbconvert_exporter": "python",
   "pygments_lexer": "ipython3",
   "version": "3.8.10"
  }
 },
 "nbformat": 4,
 "nbformat_minor": 5
}