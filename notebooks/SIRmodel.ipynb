{
 "cells": [
  {
   "cell_type": "markdown",
   "id": "6f3785a5",
   "metadata": {},
   "source": [
    "### Extra: Mathematical model of an infectious disease\n",
    "\n",
    "Consider the [SIR model](https://de.wikipedia.org/wiki/SIR-Modell) characterized through the following coupled systems of ordinary differential equations:\n",
    "* ${\\frac {dS}{dt}}=-c{\\frac {S}{N}}I$\n",
    "* ${\\frac {dI}{dt}}=c{\\frac {S}{N}}I-wI$\n",
    "* ${\\frac {dR}{dt}}=wI$\n",
    "\n",
    "with the boundary condition that the total number of individuals N is the sum of S, I, and R and constant\n",
    "* $N=S+I+R$\n",
    "\n",
    "(Obviously, the boundary condition is trivially fulfilled as the sum of the derivatives is zero, i.e. no births or deaths are included in this version of the model.)\n",
    "\n",
    "Herein are:\n",
    "* S: number of susceptible individuals\n",
    "* I: number of infected individuals\n",
    "* R: number of recovered (removed) individuals\n",
    "* c: probability of disease transmission\n",
    "* w: rate of recovery\n",
    "* t: time (independent variable)\n",
    "\n",
    "Your tasks:\n",
    "* Solve this system of equations using methods presented in the course and plot S, I and R as a function of time.\n",
    "* Change the parameters c and w and study their impact.\n",
    "* Make the model more dynamic by e.g. introducing a birth and a death rate, or vaccination.\n",
    "\n",
    "The SIR model is one of the simplest of a group of [compartmental models](https://en.wikipedia.org/wiki/Compartmental_models_in_epidemiology) in theoretical biology. The basic reproduction number $R$ is given by $R=c/w$. It describes the expected number of new infections caused by one infected individual (in a population where all subjects are susceptible).\n"
   ]
  }
 ],
 "metadata": {
  "kernelspec": {
   "display_name": "Python 3 (ipykernel)",
   "language": "python",
   "name": "python3"
  },
  "language_info": {
   "codemirror_mode": {
    "name": "ipython",
    "version": 3
   },
   "file_extension": ".py",
   "mimetype": "text/x-python",
   "name": "python",
   "nbconvert_exporter": "python",
   "pygments_lexer": "ipython3",
   "version": "3.8.10"
  }
 },
 "nbformat": 4,
 "nbformat_minor": 5
}