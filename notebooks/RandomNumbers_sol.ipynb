{
 "cells": [
  {
   "cell_type": "markdown",
   "id": "2fdc711a",
   "metadata": {},
   "source": [
    "# Random Numbers (on a computer) — solutions\n",
    "With material from http://www-static.etp.physik.uni-muenchen.de/kurs/comp20/ and https://henryiii.github.io/compclass/."
   ]
  },
  {
   "cell_type": "markdown",
   "id": "7510102b",
   "metadata": {},
   "source": [
    "## Example 1: Buffon's needle\n",
    "* “Buffonsches Nadelproblem” (Graf G.L.L. von Buffon, 1707 – 1788)\n",
    "* draw parallel, equidistant lines (distance $d$), throw $N$ needles (length $l\\leq d$)\n",
    "* probability for needle intersecting with line: $p = l_\\text{eff}/d = l|\\cos \\phi|/d$\n",
    "* integrate, assuming flat distribution for angle $\\phi$: \n",
    "$$p = \\int_0^{2\\pi} \\frac {l \\left|\\cos {\\varphi}\\right|}{d} \\frac {\\mathrm d \\varphi}{2\\pi}=\\frac {2l}{\\pi d}$$\n",
    "* von Mises: $N_\\text{Treffer}/N \\to p$ for $N\\to\\infty$ \n",
    "$$\\tfrac{2\\cdot N \\cdot l}{N_\\text{Treffer} \\cdot d} \\rightarrow \\pi$$"
   ]
  },
  {
   "cell_type": "markdown",
   "id": "6877ab4d",
   "metadata": {},
   "source": [
    "What do you get for $\\pi$ here?\n",
    "[![](../figures/Buffon_Streicholz_2.jpg)](https://en.wikipedia.org/wiki/File:Streicholz-Pi.jpg)"
   ]
  },
  {
   "cell_type": "markdown",
   "id": "35b16af6",
   "metadata": {},
   "source": [
    "With $l\\approx d$, $N = 17$ needles (matches) and 11 hits (green dots) we obtain:\n",
    "\n",
    "$$\\pi = 2\\cdot 17 / 11 = 3,\\overline{09}$$"
   ]
  },
  {
   "cell_type": "markdown",
   "id": "32618e82",
   "metadata": {},
   "source": [
    "## Example 2: area of a circle\n",
    "* also here, we determine $\\pi$, but this time from the numerical integration of the area of a circle\n",
    "* approximate $\\pi$ as ratio of hits $t$ and tries $n$:\n",
    "  * $\\lim_{n\\to\\infty} t/n = \\pi / 4$ \n",
    "  * (because $A_\\text{sector}=\\pi r^2 / 4$ and $A_\\square = r^2$)"
   ]
  }
 ],
 "metadata": {
  "@webio": {
   "lastCommId": null,
   "lastKernelId": null
  },
  "kernelspec": {
   "display_name": "Python 3 (ipykernel)",
   "language": "python",
   "name": "python3"
  },
  "language_info": {
   "codemirror_mode": {
    "name": "ipython",
    "version": 3
   },
   "file_extension": ".py",
   "mimetype": "text/x-python",
   "name": "python",
   "nbconvert_exporter": "python",
   "pygments_lexer": "ipython3",
   "version": "3.8.10"
  }
 },
 "nbformat": 4,
 "nbformat_minor": 5
}