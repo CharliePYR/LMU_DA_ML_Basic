{
 "cells": [
  {
   "cell_type": "markdown",
   "metadata": {},
   "source": [
    "# Data Analysis and Machine Learning with Python\n",
    "\n",
    "* Lecturers: **Günter Duckeck, Nikolai Hartmann, Alexander Mann**\n",
    "* Dates: **5 days, 06.09.2021 -- 10.09.2021, 10:00 -- 12:00 & 13:30 -- 16:00**\n",
    "* [Shared document for announcements](https://docs.google.com/document/d/1jJRDfI_NKcUFqsevwmW7HGvihYtm0tnV_6q6-uB6CGs/)\n",
    "* ZOOM link: see link above"
   ]
  },
  {
   "cell_type": "markdown",
   "metadata": {},
   "source": [
    "## Information on this course\n",
    "* [Formalities and course outline](Formalities.ipynb) [(html)](Formalities.html)\n",
    "* [References and Literature](References.ipynb)\n",
    "* The [Technical Hints](TechnicalHints.ipynb) [(html)](TechnicalHints.html)\n",
    "explain how to download and setup the repository."
   ]
  },
  {
   "cell_type": "markdown",
   "metadata": {},
   "source": [
    "## Contents\n",
    "* Introduction\n",
    "  * Organizational issues\n",
    "  * [References](References.ipynb)\n",
    "  * [Python setup](TechnicalHints.ipynb)\n",
    "  * [jupyter notebooks](nb_intro.ipynb)\n",
    "  * Python introduction: [link to material Software Handwerkszeug Course](http://www-static.etp.physik.uni-muenchen.de/kurs/Computing/sw/node19.html)\n",
    "* Scientific Python:\n",
    "  * [Numpy](NumpyIntro.ipynb)\n",
    "  * [Matplotlib](MatplotlibIntro.ipynb)\n",
    "  * [SciPy](ScipyIntro.ipynb)\n",
    "  * [Pandas - data analysis with Python](PandasIntro.ipynb)\n",
    "  * [Exercises](ScipyPandasExercises.ipynb), [SIR model](SIRmodel.ipynb)\n",
    "* Statistics:\n",
    "  * [Basic Concepts](StatBasics.ipynb)\n",
    "  * [Random Numbers](RandomNumbers.ipynb)\n",
    "  * [Fitting](Fitting.ipynb)\n",
    "  * [Exercises](StatExercises.ipynb)\n",
    "* Machine learning\n",
    "  * [Random numbers](RandomNumbers.ipynb)\n",
    "  * [Basic concepts](MLIntro.ipynb)\n",
    "  * Introductory example - [Nearest neighbours](knnExample.ipynb)\n",
    "  * [Scikit-learn Overview](ScilearnIntro.ipynb)\n",
    "  * [Testing, validating, Overtraining](ScilearnValidation.ipynb)\n",
    "  * [Decision Trees](DecisionTrees.ipynb)\n",
    "  * [Rescaling data](DataRescaling.ipynb)\n",
    "  * Exercises:\n",
    "    * [on Rotated Decision Trees](DecisionTrees.ipynb#Exercise:-Feed-rotated-features-to-the-Classifier)\n",
    "    * [further suggestions](MLExercises.ipynb)\n",
    "* Neural Networks\n",
    "  * [Neural Nets Introduction](NN_Activation.ipynb)\n",
    "  * [Neural Nets from Scratch](NN_from_scratch_digits.ipynb)\n",
    "* Advanced ML\n",
    "  * [Neural Nets from Scratch - revisited](NNFromScratchNumpy.ipynb)"
   ]
  },
  {
   "cell_type": "code",
   "execution_count": null,
   "metadata": {},
   "outputs": [],
   "source": []
  }
 ],
 "metadata": {
  "anaconda-cloud": {},
  "kernelspec": {
   "display_name": "Python 3 (ipykernel)",
   "language": "python",
   "name": "python3"
  },
  "language_info": {
   "codemirror_mode": {
    "name": "ipython",
    "version": 3
   },
   "file_extension": ".py",
   "mimetype": "text/x-python",
   "name": "python",
   "nbconvert_exporter": "python",
   "pygments_lexer": "ipython3",
   "version": "3.8.10"
  },
  "toc": {
   "base_numbering": 1,
   "nav_menu": {},
   "number_sections": true,
   "sideBar": true,
   "skip_h1_title": false,
   "title_cell": "Table of Contents",
   "title_sidebar": "Contents",
   "toc_cell": true,
   "toc_position": {},
   "toc_section_display": true,
   "toc_window_display": true
  }
 },
 "nbformat": 4,
 "nbformat_minor": 1
}