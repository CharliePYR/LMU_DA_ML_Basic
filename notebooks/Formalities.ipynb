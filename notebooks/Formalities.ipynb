{
 "cells": [
  {
   "cell_type": "markdown",
   "id": "b025bc58",
   "metadata": {},
   "source": [
    "## Schedule\n",
    "\n",
    "**10 blocks** of 2-2.5 hours each:\n",
    "* Mon morning: Setup, Introduction, Numpy\n",
    "* Mon afternoon: Matplotlib, Scipy\n",
    "* Tue morning: Pandas\n",
    "* Tue afternoon: Awkward Array, Introduction to Statistics \n",
    "* Wed morning: Random Numbers, Fitting\n",
    "* Wed afternoon: Introduction to Machine Learning\n",
    "* Thu morning: Validation, Decision Trees\n",
    "* Thu afternoon & Fri morning: Neural Networks\n",
    "* Fri afternoon: **exam**\n",
    "\n",
    "*This is an approximate outline, we plan to present topics in this order, but there might be overlaps or adjustments between the blocks*  \n"
   ]
  },
  {
   "cell_type": "markdown",
   "id": "335f27c0",
   "metadata": {},
   "source": [
    "## Bachelor/Master Qualification\n",
    "\n",
    "* Course can get accounted as \"Schlüsselqualifikation\", i.e.\n",
    "  * 1-week block course is equivalent to SQ 1+2 or 3 ECTS points.\n",
    "* For successful participation you need to pass a written examination on last day of course (Friday afternoon).\n",
    "  (We'll hand out certificates (Scheinformulare) during examination, please fill and hand in.)\n",
    "* After checking the examination we will send the certificates for those who passed to the Prüfungsamt, where you can pick them up. Might take until October.\n"
   ]
  },
  {
   "cell_type": "markdown",
   "id": "f39005a1",
   "metadata": {},
   "source": [
    "## Course organization and outline\n",
    "\n",
    "The course is meant to present an overview on various modern techniques for machine learning based on Python packages.\n",
    "\n",
    "* It is assumed that you have basic programming knowledge in general and experience in Python in particular.\n",
    "* In the course, we will directly start to discuss scientific computing packages in Python, **Numpy, Matplotlib and Pandas**, and later provide some (basic) background knowledge in statistics.\n",
    "\n",
    "The course will present a tutorial-style presentation of the subject\n",
    "* all material as **jupyter notebooks**\n",
    "* it is your choice whether you prefer to execute notebooks in parallel or to focus on presentation and execute it afterwards\n",
    "* there should be plenty of time for your own testing and exercises\n",
    "\n",
    "No detailed discussion of theoretical background of statistics and machine learning, it is more meant as practical, hands-on course.  \n",
    "\n",
    "Goals:\n",
    "* basic statistics and visualization techniques\n",
    "* introduction to machine learning:\n",
    "  * Overview on models, training, validation\n",
    "* Neural networks\n",
    "* Standard packages for ML: scikit-learn "
   ]
  }
 ],
 "metadata": {
  "kernelspec": {
   "display_name": "Python 3 (ipykernel)",
   "language": "python",
   "name": "python3"
  },
  "language_info": {
   "codemirror_mode": {
    "name": "ipython",
    "version": 3
   },
   "file_extension": ".py",
   "mimetype": "text/x-python",
   "name": "python",
   "nbconvert_exporter": "python",
   "pygments_lexer": "ipython3",
   "version": "3.8.10"
  }
 },
 "nbformat": 4,
 "nbformat_minor": 5
}