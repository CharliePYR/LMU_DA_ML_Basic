{
 "cells": [
  {
   "cell_type": "markdown",
   "id": "2fdc711a",
   "metadata": {},
   "source": [
    "# Statistics -- some basic concepts\n",
    "*Disclaimer: Statistics is a complex subject, we can only cover a few basic elements here in this 1-day hands-on course*\n",
    "\n",
    "## Characterizing Data\n",
    "Two basic kinds of data:\n",
    "* qualitative\n",
    "  * categories, colors, emotions, preferences, popularity\n",
    "  * polls, medical studies, market research \n",
    "  * *difficult to treat with mathematical methods*\n",
    "* quantitative\n",
    "  * numerical values -- std case in physics/science, we will focus on that\n",
    "    * can be discrete -- number of tracks in collission, number of persons in car, number of heads when tossing coins, ...\n",
    "    * or continuous -- mass of particle, size of person, intensity of source, velocity of object, ...\n",
    "    \n"
   ]
  },
  {
   "cell_type": "markdown",
   "id": "7510102b",
   "metadata": {},
   "source": [
    "### Visualisation example\n",
    "Frequency-distribution:\n",
    "* 1 or more quantities are repeatedly measured \n",
    "* fill quantity in **histogram**\n",
    "  * divide range *(xmin, xmax)* into *nbins* intervals\n",
    "  * each observation is filled into histogram\n",
    "    * interval content incremented by 1\n",
    "    \n",
    "Simple example:\n",
    "* fill measured wire position into histogram\n",
    "\n",
    "\n",
    "If normalized : \n",
    "$ \\frac {N_{bin}} {N_{tot}}$\n",
    "\n",
    "it can be interpreted as probabily density\n"
   ]
  },
  {
   "cell_type": "code",
   "execution_count": null,
   "id": "40abb2e0",
   "metadata": {},
   "outputs": [],
   "source": [
    "%matplotlib inline\n",
    "import numpy as np\n",
    "import scipy as sp\n",
    "import matplotlib.pyplot as plt"
   ]
  },
  {
   "cell_type": "code",
   "execution_count": null,
   "id": "68147f63",
   "metadata": {},
   "outputs": [],
   "source": [
    "data = np.loadtxt('http://www-static.etp.physik.uni-muenchen.de/kurs/Computing/python/nb/data/rohr1.dat')\n",
    "fig = plt.figure(1, figsize=(7,6))  # get handle to matplotlib figure and specify size\n",
    "plt.hist(data) # automatic determination of range and bins\n",
    "#plt.hist(data,bins=100, range=(-100,100),density=1) # specify range and bins and density flag\n",
    "plt.xlabel('x-coord [$\\mu m$]') # x-axis\n",
    "plt.title('1D Histogram tube positions') # title header\n",
    "plt.grid(True)"
   ]
  },
  {
   "cell_type": "markdown",
   "id": "cb6a237f",
   "metadata": {},
   "source": [
    "##### Can be extended to 2-D (and more...) "
   ]
  },
  {
   "cell_type": "code",
   "execution_count": null,
   "id": "f5f58878",
   "metadata": {
    "scrolled": true
   },
   "outputs": [],
   "source": [
    "data2 = np.loadtxt('http://www-static.etp.physik.uni-muenchen.de/kurs/Computing/python/nb/data/rohr2.dat')\n",
    "fig = plt.figure(1, figsize=(9,6))  # get handle to matplotlib figure and specify size\n",
    "plt.hist2d(data2[:,0],data2[:,1], bins=30, cmap='Blues')\n",
    "cb = plt.colorbar()\n",
    "cb.set_label('counts in bin')\n",
    "plt.xlabel('x-coord [$\\mu m$]') # x-axis\n",
    "plt.ylabel('y-coord [$\\mu m$]') # x-axis\n",
    "plt.title('2D Histogram tube positions'); # title header\n"
   ]
  },
  {
   "cell_type": "markdown",
   "id": "0920305d",
   "metadata": {},
   "source": [
    "### Characterizing data contd\n",
    "\n",
    "#### Mean value:\n",
    "Most common way to describe a dataset ${(x_1, x_2, ... , x_N)}$ with a single value is the **arithmetic mean**:\n",
    "\n",
    "$$\\bar{x} = \\frac{\\sum_{i=1}^{N} x_i}{N}$$\n",
    "\n",
    "Useful for many cases, but there are more alternatives:\n",
    "\n",
    "**Geometric mean**: $$ \\sqrt[N]{x_1 \\cdot x_2 \\cdot ... \\cdot x_N}$$\n",
    "\n",
    "**Harmonic mean**: $$ \\left( \\frac{N}{1/x_1 + 1/x_2 + ... + 1/x_N}\\right)^{-1} $$\n",
    "\n",
    "**Median**: \n",
    "* the value in the middle, i.e. half of the values are smthealler, the other half is larger\n",
    "* very useful for datasets were the underlying distibution is not know or has large tails\n",
    "\n",
    "A simple way to get it is sorting the dataset and then take the value in the middle:\n",
    "$$ Median = x_{N/2} $$\n"
   ]
  },
  {
   "cell_type": "markdown",
   "id": "f332f364",
   "metadata": {},
   "source": [
    "#### Width\n",
    "Besides the mean the 2nd important quantity to characterize data \n",
    "\n",
    "Most common is the **variance**:\n",
    "    $$V(x) = \\frac{\\sum (x_i - \\bar{x})^2}{N} = \\frac{\\sum x_i^2}{N} - \\bar{x}^2$$\n",
    "    \n",
    "or the **standard-deviation**:\n",
    " $$\\sigma(x) = \\sqrt{V(x)} = \\sqrt{ \\frac{\\sum (x_i - \\bar{x})^2}{N}} = \\sqrt{\\frac{\\sum x_i^2}{N} - \\bar{x}^2 }$$\n",
    " \n",
    " Further option would be:\n",
    "  $$ \\frac{\\sum |x_i - \\bar{x}|}{N} $$\n",
    "\n",
    "*not very common, ugly mathematical properties ...*\n",
    "\n",
    "\n",
    "More practical are so-called **Quantiles**:\n",
    "* lower Quartil: 25% of values are lower \n",
    "* upper Quartil: 75% of values are lower \n",
    "* take **width** as difference between upper and lower Quartile.\n",
    "* or more general take arbitrary **Percentile**: XX% Percentile = XX% of values are smaller."
   ]
  },
  {
   "cell_type": "markdown",
   "id": "cb87c1a9",
   "metadata": {},
   "source": [
    "#### Higher powers\n",
    "\n",
    "An obvious extension to arithmetic mean and variance are higher powers:\n",
    "\n",
    "$$ \\mbox{Skew} = \\frac{\\sum (x_i - \\bar{x})^3}{N \\sigma^3}$$\n",
    "\n",
    "*(Factor $1/\\sigma^3$ makes Skew dimensionless)*\n",
    "\n",
    "Skew ist useful to charakterise asymmetries, it is positive in case of tails to high values (and v.v.), it is ~0 for symmetric distributions.\n",
    "\n",
    "\n"
   ]
  },
  {
   "cell_type": "markdown",
   "id": "23f03c18",
   "metadata": {},
   "source": [
    "### Multiple variables\n",
    "Often one records simultaneously several quantities per \"Event\"\n",
    "* x,y,z-coordinates\n",
    "* weight and height \n",
    "* exam results in different fields\n",
    "\n",
    "Besides mean and variance of the individual quantities it is important to quantify also dependencies between variables. Similar to **variance** one can define **covariance**: \n",
    "$$cov(x,y) = \\frac{1}{N} \\sum (x_i - \\overline{x}) \\cdot (y_i - \\overline{y}) = \n",
    "\\overline{xy} - \\overline{x} \\cdot \\overline{y}$$\n",
    "\n",
    "* In case high (low) values of x often occur with high (low) values of y then the \n",
    "covarince is positiv\n",
    "* the other way round negative\n",
    "* in case of independent quantities the covariance is close to zero.\n"
   ]
  },
  {
   "cell_type": "markdown",
   "id": "9cd60e40",
   "metadata": {},
   "source": [
    "A better measure to quantify the dependency is the **correlation**  \n",
    "$$ \\rho \\equiv \\frac{cov(x,y)}{\\sigma(x) \\sigma(y)}$$\n",
    "with $ -1 \\le \\rho \\le 1$.\n",
    "\n",
    "$\\rho = \\pm 1 $ mean full correlation, the values of y are fully determined by x (or v.v.) and do not provide additional information.\n",
    "\n"
   ]
  },
  {
   "cell_type": "markdown",
   "id": "67a77f0a",
   "metadata": {},
   "source": [
    "#### correlation examples\n",
    "\n",
    "<table>\n",
    "    <tr><td>\n",
    "    <img src='../figures/cor_0.0.png' width=\"300\" height=\"300\"></td><td><img src='../figures/cor_m0.50.png' width=\"300\" height=\"300\"></td></tr>\n",
    "    <tr><td>\n",
    "    <img src='../figures/cor_0.90.png' width=\"300\" height=\"300\"></td><td><img src='../figures/cor_m0.98.png' width=\"300\" height=\"300\"></td></tr>\n",
    "\n",
    "</table>"
   ]
  },
  {
   "cell_type": "markdown",
   "id": "7ed5b08f",
   "metadata": {},
   "source": [
    "#### Covariance/correlation matrix\n",
    "In case of more than 2 variables this approach leads to **Covariance matrix**:\n",
    " $$V_{ij} = cov( x_{(i)}, y_{(i)} )$$\n",
    " or **correlation matrix**:\n",
    "  $$\\rho_{ij} = \\frac{cov( x_{(i)}, y_{(i)} )}{\\sigma_i \\sigma_j}$$\n",
    "  \n",
    "  These matrices are symmetric $N\\times N$ matrices"
   ]
  },
  {
   "cell_type": "markdown",
   "id": "0177a44d",
   "metadata": {},
   "source": [
    "## Important Distributions\n",
    "In case of continuous distribtutions mean and variance are defined as integral over the probability density function (*pdf*).\n",
    " $$\\mbox{ Mean:  } \\bar{x} = \\int_{-\\infty}^{+\\infty} x \\cdot p(x) \\, dx $$\n",
    " $$\\mbox{ Variance:  }V(x) = \\int_{-\\infty}^{+\\infty} (x - \\bar{x})^2 \\cdot p(x) \\, dx $$\n",
    " $$\\mbox{ Standard-deviation:  } \\sigma(x) = \\sqrt{V(x)} $$"
   ]
  },
  {
   "cell_type": "markdown",
   "id": "720e7208",
   "metadata": {},
   "source": [
    "### Uniform distribution\n",
    "The most simple distribution, all values in a specified Interval are equally likely:\n",
    "$$p(x) = \\frac{1}{b-a} \\,\\, \\forall \\, x \\in [a,b], \\, 0\\,  else$$\n",
    "\n",
    "Important for all kinds of gambling and basis for random number generators, simulations and also nice test case:\n",
    "\n",
    "Take a uniform distribution  in $[0,1]$. It's rather straightforwad to show that the mean is *0.5* and the \n",
    "variance $\\sigma^2 = 1/12$\n",
    "\n",
    "![Gleichverteilung](../figures/gleichv1.png)"
   ]
  },
  {
   "cell_type": "markdown",
   "id": "7cd354e3",
   "metadata": {},
   "source": [
    "### Binomial distribution\n",
    "Describes experiments with 2 possible outcomes. A simple example is  tossing of a coin.\n",
    "\n",
    "What is the probability to get *k* times *head* in *n* tries (*p* is the probabilty for *head* for single toss)\n",
    "\n",
    "One special case would be to obtain *head* in the first *k* tosses ($p^k$) and *number* in the subsequent *n-k* tosses ($(1-p)^{n-k}$), i.e. the combined probability for this to happen is \n",
    "$$p^k (1-p)^{n-k}$$\n",
    "\n",
    "Applying combinatorics yields that \n",
    "$${ n \\choose k } = \\frac{n !} { (n-k)! k!}$$\n",
    "such cases exits, each with equal probability.\n",
    "\n",
    "So in total the probability is \n",
    "$$P(k\\,\\times \\, \\mbox{Kopf}) = p^k (1-p)^{n-k}{ n \\choose k }$$\n",
    "\n",
    "\n",
    "\n",
    "Mean and variance of the binomial-distribution are:\n",
    "$$ \\bar{x} = n p , \\; \\; \\sigma^2 = n p (1-p) $$\n",
    "\n",
    "\n"
   ]
  },
  {
   "cell_type": "markdown",
   "id": "f332dc27",
   "metadata": {},
   "source": [
    "![Binomialverteilung](../figures/bin1.png)"
   ]
  },
  {
   "cell_type": "markdown",
   "id": "69e7f8a6",
   "metadata": {},
   "source": [
    "### Poisson distribution\n",
    "The binomial distribution changes to the poisson distribution in the limit for \n",
    "$$n \\rightarrow \\infty,\\; p\\rightarrow 0,\\; np = const$$\n",
    "\n",
    "The Poisson distribtuion is defined as \n",
    "$$P(k) = \\frac{\\mu^k e^{-\\mu}}{k!}$$\n",
    "with $\\mu = n p$.\n",
    "\n",
    "Mean and variance of the Poisson-distribution are:\n",
    "$$ \\bar{x} = \\mu , \\; \\; \\sigma^2 = \\mu $$\n",
    "\n",
    "In practical terms the binomial distribution is already reasonably well described by the corresponding  Poisson-distribution for *small* $n \\approx 10-20$. \n",
    "\n"
   ]
  },
  {
   "cell_type": "markdown",
   "id": "40c112f5",
   "metadata": {},
   "source": [
    "![Poissonverteilung](../figures/bin_poiss.png)"
   ]
  },
  {
   "cell_type": "markdown",
   "id": "0d8151d5",
   "metadata": {},
   "source": [
    "#### Poisson--Statistic showcase in the Prussian army\n",
    "\n",
    "A classical example in statistics textbooks is the statistics of the prussian army  on deadly accidents due to horse-kicks counted by army corps and year. \n",
    "\n",
    "Over 20 years and  10 corps ($ = 200 $ corps-years) one counted in total 122 deadly cases. \n",
    "\n",
    "This yields $ \\mu = 122/200 = 0.61$.\n"
   ]
  },
  {
   "cell_type": "markdown",
   "id": "f4a2fcfa",
   "metadata": {},
   "source": [
    "![Preussenstatistik](../figures/preussenstat.png)"
   ]
  },
  {
   "cell_type": "markdown",
   "id": "e064a700",
   "metadata": {},
   "source": [
    "### Gaussian or Normal distribution\n",
    "The most important distribution in statistics\n",
    " $$G(x|\\mu,\\sigma) = \\frac{1}{\\sqrt{2\\pi} \\, \\sigma}\n",
    "e^{-\\frac{(x-\\mu)^2}{2\\sigma^2}}$$\n",
    "\n",
    "with mean $\\mu$  and variance $\\sigma^2$.\n",
    "\n",
    "For large $\\mu$  the poisson distribution converges to the Gaussian distribution, in practice already for  $\\mu \\approx 10$ is a reasonable approximation.\n",
    "\n",
    "And similarly the binomial distribution converges to the Gaussian in case of large *n* and *np* .\n"
   ]
  },
  {
   "cell_type": "markdown",
   "id": "bd1f2ffb",
   "metadata": {},
   "source": [
    "![Gaussverteilung](../figures/bin_poiss_ga.png)"
   ]
  },
  {
   "cell_type": "markdown",
   "id": "79a52a96",
   "metadata": {},
   "source": [
    "#### Distribution summary\n",
    "\n",
    "![BPG](../figures/BPG.png)"
   ]
  },
  {
   "cell_type": "markdown",
   "id": "5ead8992",
   "metadata": {},
   "source": [
    "### Central limit theorem\n",
    "The most fundamental theorem in statistics:\n",
    "\n",
    "For a set of independent random-variables $x_i$ with mean $\\mu$ and variance $\\sigma^2$ the quantity \n",
    "$$ y = \\frac{\\sum x_i} { n} $$\n",
    "approximates to a Gaussian with  mean $\\mu$ and variance $\\sigma^2$ for large $n$.\n",
    "\n",
    "The underlying distribution of the $x_i$ does not matter, e.g. if you random random variables which are uniformly distributed or exponentially, the mean $y$ will follow approximately a normal distribution.\n",
    "\n",
    "$\\rightarrow$ we will demonstrate it in the exercises\n",
    "\n",
    "\n",
    "The central limit theorem is the reason for the exceptional importance of the Guassian distribution."
   ]
  },
  {
   "cell_type": "code",
   "execution_count": null,
   "id": "4217fc69",
   "metadata": {},
   "outputs": [],
   "source": []
  }
 ],
 "metadata": {
  "kernelspec": {
   "display_name": "Python 3",
   "language": "python",
   "name": "python3"
  },
  "language_info": {
   "codemirror_mode": {
    "name": "ipython",
    "version": 3
   },
   "file_extension": ".py",
   "mimetype": "text/x-python",
   "name": "python",
   "nbconvert_exporter": "python",
   "pygments_lexer": "ipython3",
   "version": "3.8.8"
  }
 },
 "nbformat": 4,
 "nbformat_minor": 5
}