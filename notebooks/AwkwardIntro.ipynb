{
 "cells": [
  {
   "cell_type": "markdown",
   "id": "a281cc87",
   "metadata": {},
   "source": [
    "*This notebook needs some additional packages that are not installed in the default python environment at CIP (they are if you used `requirements.txt` or run this notebook on binder). The following cell should make sure to install them: (let us know if there are problems)*"
   ]
  },
  {
   "cell_type": "code",
   "execution_count": null,
   "id": "c177d163",
   "metadata": {},
   "outputs": [],
   "source": [
    "import sys\n",
    "import site\n",
    "\n",
    "if \"/software/opt\" in sys.executable:\n",
    "    # if in python environment at CIP install into user directory\n",
    "    !pip install --user awkward uproot vector\n",
    "    # give user directory priority\n",
    "    sys.path.insert(0, site.getusersitepackages())\n",
    "else:\n",
    "    # otherwise just install the packages\n",
    "    !pip install awkward uproot vector"
   ]
  },
  {
   "attachments": {
    "image.png": {
     "image/png": "[encoded data removed]"
    }
   },
   "cell_type": "markdown",
   "id": "ffccd0e9",
   "metadata": {},
   "source": [
    "# Awkward arrays\n",
    "\n",
    "Numpy and pandas have one limitation: All data has to come in tabular form. However, sometimes you might encounter situations where you have lists of lists (of variable length), nested records, different types in the same list and potentially missing entries.\n",
    "\n",
    "Things like this are very common in data analysis for particles physics where data schematically often looks like this:\n",
    "\n",
    "![image.png](attachment:image.png)\n",
    "\n",
    "(image taken from a [tutorial from Jim Pivarski](https://github.com/jpivarski-talks/2020-07-13-pyhep2020-tutorial))\n",
    "\n",
    "The numbers on top represent indices of collision events, the blue bars fixed quantities stored for each event and the other colorful boxes objects with variable length for each event. E.g. one event can have an arbitrary number of reconstructed particles of different type.\n",
    "\n",
    "Dealing with this in pandas/numpy means working with multiple arrays and tables and doing many different operations for joining/grouping etc.\n",
    "\n",
    "That's where awkward array comes into play to make our lives easier and allow for efficient processing of such data. For more information, see\n",
    "\n",
    "http://awkward-array.org\n",
    "\n",
    "https://github.com/scikit-hep/awkward-1.0#papers-and-talks-about-awkward-array"
   ]
  },
  {
   "cell_type": "code",
   "execution_count": null,
   "id": "4a4b53d5",
   "metadata": {},
   "outputs": [],
   "source": [
    "import awkward as ak\n",
    "import numpy as np\n",
    "\n",
    "import matplotlib.pyplot as plt"
   ]
  },
  {
   "cell_type": "markdown",
   "id": "bd4da294",
   "metadata": {},
   "source": [
    "We can have nested lists (\"jagged arrays\") of variable length:"
   ]
  },
  {
   "cell_type": "code",
   "execution_count": null,
   "id": "7af9b96e",
   "metadata": {},
   "outputs": [],
   "source": [
    "ak.Array([[1, 2, 3], [4], [], [5, 6, 7]])"
   ]
  },
  {
   "cell_type": "code",
   "execution_count": null,
   "id": "ac62c9ef",
   "metadata": {},
   "outputs": [],
   "source": [
    "ak.Array([[[1], [2, 3]], [[], [], [4, 5]]])"
   ]
  },
  {
   "cell_type": "markdown",
   "id": "5d7791f0",
   "metadata": {},
   "source": [
    "Records (arrays of structures with multiple named fields, will internally be split into a structure of arrays)"
   ]
  },
  {
   "cell_type": "code",
   "execution_count": null,
   "id": "f9da57a5",
   "metadata": {},
   "outputs": [],
   "source": [
    "rec = ak.Array([{\"a\" : 5, \"b\": 6}, {\"a\": 7, \"b\": 8}])\n",
    "rec"
   ]
  },
  {
   "cell_type": "code",
   "execution_count": null,
   "id": "d08276ca",
   "metadata": {},
   "outputs": [],
   "source": [
    "rec.a"
   ]
  },
  {
   "cell_type": "code",
   "execution_count": null,
   "id": "84138fe9",
   "metadata": {},
   "outputs": [],
   "source": [
    "rec.b"
   ]
  },
  {
   "cell_type": "markdown",
   "id": "cf74b7b0",
   "metadata": {},
   "source": [
    "Missing values"
   ]
  },
  {
   "cell_type": "code",
   "execution_count": null,
   "id": "1bcfa084",
   "metadata": {},
   "outputs": [],
   "source": [
    "ak.Array([None, 1, 2, 3, None, 4])"
   ]
  },
  {
   "cell_type": "markdown",
   "id": "4b80efb4",
   "metadata": {},
   "source": [
    "Mixed types (unions)"
   ]
  },
  {
   "cell_type": "code",
   "execution_count": null,
   "id": "3359110a",
   "metadata": {},
   "outputs": [],
   "source": [
    "ak.Array([[1, 2], {\"a\": 4, \"b\": 5}, 3, None])"
   ]
  },
  {
   "cell_type": "markdown",
   "id": "eee5d866",
   "metadata": {},
   "source": [
    "And arbitrary combinations of all this ...\n",
    "\n",
    "Operations work on a per-array basis, very similar to numpy:"
   ]
  },
  {
   "cell_type": "code",
   "execution_count": null,
   "id": "3ec1f3eb",
   "metadata": {},
   "outputs": [],
   "source": [
    "a = ak.Array([[1, 2, 3], [4], [], [5, 6, 7]])"
   ]
  },
  {
   "cell_type": "code",
   "execution_count": null,
   "id": "ca1fce66",
   "metadata": {},
   "outputs": [],
   "source": [
    "a + 1"
   ]
  },
  {
   "cell_type": "code",
   "execution_count": null,
   "id": "1bed7db0",
   "metadata": {},
   "outputs": [],
   "source": [
    "a ** 2"
   ]
  },
  {
   "cell_type": "markdown",
   "id": "9390ae31",
   "metadata": {},
   "source": [
    "`numpy ufuncs` broadcast to the elements of awkward arrays:"
   ]
  },
  {
   "cell_type": "code",
   "execution_count": null,
   "id": "26ecd04f",
   "metadata": {},
   "outputs": [],
   "source": [
    "np.sqrt(a)"
   ]
  },
  {
   "cell_type": "markdown",
   "id": "fc25cb3b",
   "metadata": {},
   "source": [
    "Where for nested lists one can use the `axis` parameter in many constellations to do the same thing as for multi-dimensional numpy arrays"
   ]
  },
  {
   "cell_type": "code",
   "execution_count": null,
   "id": "7c913e77",
   "metadata": {},
   "outputs": [],
   "source": [
    "ak.sum(a) # sum all elements in the array"
   ]
  },
  {
   "cell_type": "code",
   "execution_count": null,
   "id": "c1d71c73",
   "metadata": {},
   "outputs": [],
   "source": [
    "ak.sum(a, axis=0) # sum all first elements, all second elements, etc"
   ]
  },
  {
   "cell_type": "code",
   "execution_count": null,
   "id": "f5f19593",
   "metadata": {},
   "outputs": [],
   "source": [
    "ak.sum(a, axis=1) # sum all elements for each list"
   ]
  },
  {
   "cell_type": "code",
   "execution_count": null,
   "id": "b4dc6ee1",
   "metadata": {},
   "outputs": [],
   "source": [
    "ak.min(a, axis=1) # minimum element in each list"
   ]
  },
  {
   "cell_type": "code",
   "execution_count": null,
   "id": "1fd16946",
   "metadata": {},
   "outputs": [],
   "source": [
    "ak.num(a) # length of each list"
   ]
  },
  {
   "cell_type": "markdown",
   "id": "3940fd9a",
   "metadata": {},
   "source": [
    "There are also convenience functions for getting variable length lists back into rectangular numpy arrays, padded to a fixed size, filled with dummy values. This can be useful for e.g. machine learning applications when working with algorithms that expect inputs of fixed size. E.g. if we wanted to have our array lists to have a maximum length of 5 with missing values filled in as -1 we could do:"
   ]
  },
  {
   "cell_type": "code",
   "execution_count": null,
   "id": "7fab676f",
   "metadata": {},
   "outputs": [],
   "source": [
    "ak.pad_none(a, 10).tolist()"
   ]
  },
  {
   "cell_type": "code",
   "execution_count": null,
   "id": "f3611a97",
   "metadata": {},
   "outputs": [],
   "source": [
    "a_flat = ak.fill_none(ak.pad_none(a, 10), -1)\n",
    "a_flat"
   ]
  },
  {
   "cell_type": "markdown",
   "id": "d256d781",
   "metadata": {},
   "source": [
    "Then you can use `ak.to_numpy` to convert arrays that are compatible with numpy back to numpy arrays:"
   ]
  },
  {
   "cell_type": "code",
   "execution_count": null,
   "id": "153e2598",
   "metadata": {},
   "outputs": [],
   "source": [
    "a_numpy = ak.to_numpy(a_flat)\n",
    "a_numpy"
   ]
  },
  {
   "cell_type": "markdown",
   "id": "3018dbf2",
   "metadata": {},
   "source": [
    "This works often without copying. That means (although usually not recommended) that you can modify awkward arrays by converting to numpy.\n",
    "\n",
    "While awkward arrays are read-only structures, numpy arrays can be modified:"
   ]
  },
  {
   "cell_type": "code",
   "execution_count": null,
   "id": "f5578ff4",
   "metadata": {},
   "outputs": [],
   "source": [
    "a_numpy[1, 1] = 42"
   ]
  },
  {
   "cell_type": "code",
   "execution_count": null,
   "id": "8f0e349a",
   "metadata": {},
   "outputs": [],
   "source": [
    "a_numpy"
   ]
  },
  {
   "cell_type": "code",
   "execution_count": null,
   "id": "bfcffa04",
   "metadata": {},
   "outputs": [],
   "source": [
    "a_flat.tolist()"
   ]
  },
  {
   "cell_type": "markdown",
   "id": "d599ce3a",
   "metadata": {},
   "source": [
    "Under the hood, these nested arrays are composed of contiguous arrays in memory to make computation efficient.\n",
    "\n",
    "E.g. an array of lists is represented by offsets and content, we can inspect this by looking at the `layout`:"
   ]
  },
  {
   "cell_type": "code",
   "execution_count": null,
   "id": "62f5a49b",
   "metadata": {},
   "outputs": [],
   "source": [
    "a"
   ]
  },
  {
   "cell_type": "code",
   "execution_count": null,
   "id": "59203647",
   "metadata": {},
   "outputs": [],
   "source": [
    "a.layout"
   ]
  },
  {
   "cell_type": "code",
   "execution_count": null,
   "id": "276a3c63",
   "metadata": {},
   "outputs": [],
   "source": [
    "a.layout.form # just the overall structure"
   ]
  },
  {
   "cell_type": "markdown",
   "id": "a5123dad",
   "metadata": {},
   "source": [
    "# Example: Chicago bikeroutes\n",
    "\n",
    "A nice example for a dataset to work with Awkward array is the following geojson file of bikeroutes in Chicago. It is also used in the [introduction of the awkward array documentation](https://awkward-array.org/what-is-awkward.html)."
   ]
  },
  {
   "cell_type": "code",
   "execution_count": null,
   "id": "700d881c",
   "metadata": {},
   "outputs": [],
   "source": [
    "import urllib\n",
    "import json"
   ]
  },
  {
   "cell_type": "code",
   "execution_count": null,
   "id": "61513614",
   "metadata": {},
   "outputs": [],
   "source": [
    "url = \"https://raw.githubusercontent.com/Chicago/osd-bike-routes/master/data/Bikeroutes.geojson\"\n",
    "bikeroutes_json = urllib.request.urlopen(url).read()"
   ]
  },
  {
   "cell_type": "markdown",
   "id": "fc3aeccf",
   "metadata": {},
   "source": [
    "We can load this using the `json` module:"
   ]
  },
  {
   "cell_type": "code",
   "execution_count": null,
   "id": "310b8afa",
   "metadata": {},
   "outputs": [],
   "source": [
    "bikeroutes_pyobj = json.loads(bikeroutes_json)"
   ]
  },
  {
   "cell_type": "markdown",
   "id": "8c48eb94",
   "metadata": {},
   "source": [
    "This will create a nested dictionary/list structure:"
   ]
  },
  {
   "cell_type": "code",
   "execution_count": null,
   "id": "5cc14667",
   "metadata": {},
   "outputs": [],
   "source": [
    "type(bikeroutes_pyobj)"
   ]
  },
  {
   "cell_type": "code",
   "execution_count": null,
   "id": "dcc320fd",
   "metadata": {},
   "outputs": [],
   "source": [
    "bikeroutes_pyobj.keys()"
   ]
  },
  {
   "cell_type": "code",
   "execution_count": null,
   "id": "4bb2bd37",
   "metadata": {},
   "outputs": [],
   "source": [
    "type(bikeroutes_pyobj[\"features\"])"
   ]
  },
  {
   "cell_type": "code",
   "execution_count": null,
   "id": "ab5ed169",
   "metadata": {},
   "outputs": [],
   "source": [
    "bikeroutes_pyobj[\"features\"][0]"
   ]
  },
  {
   "cell_type": "markdown",
   "id": "7833e426",
   "metadata": {},
   "source": [
    "Awkward array allows us to load this whole thing into a single array structure:"
   ]
  },
  {
   "cell_type": "code",
   "execution_count": null,
   "id": "bf82a1de",
   "metadata": {},
   "outputs": [],
   "source": [
    "bikeroutes = ak.from_json(bikeroutes_json)"
   ]
  },
  {
   "cell_type": "markdown",
   "id": "0d18c74a",
   "metadata": {},
   "source": [
    "We can navigate through the nested records (even if some of them are lists). For example, this will give us a 4-dimensional (partially variable length) list of coordinate values:"
   ]
  },
  {
   "cell_type": "code",
   "execution_count": null,
   "id": "5d85a554",
   "metadata": {},
   "outputs": [],
   "source": [
    "bikeroutes.features.geometry.coordinates"
   ]
  },
  {
   "cell_type": "code",
   "execution_count": null,
   "id": "8bac0cc2",
   "metadata": {},
   "outputs": [],
   "source": [
    "coordinates = bikeroutes.features.geometry.coordinates\n",
    "coordinates"
   ]
  },
  {
   "cell_type": "markdown",
   "id": "d47bdf02",
   "metadata": {},
   "source": [
    "Similar to `axis`, awkward tries to generalize the notion of `ndim` to variable-length lists:"
   ]
  },
  {
   "cell_type": "code",
   "execution_count": null,
   "id": "c96d11c1",
   "metadata": {},
   "outputs": [],
   "source": [
    "coordinates.ndim"
   ]
  },
  {
   "cell_type": "markdown",
   "id": "0fa6f8cc",
   "metadata": {},
   "source": [
    "Looking at the list lengths at each dimension, we can figure out what they correspond to.\n",
    "\n",
    "The last \"axis\" seems to always have length 2 - representing latitude/longitude coordinates:"
   ]
  },
  {
   "cell_type": "code",
   "execution_count": null,
   "id": "3c5cad08",
   "metadata": {},
   "outputs": [],
   "source": [
    "ak.num(coordinates, axis=-1)"
   ]
  },
  {
   "cell_type": "code",
   "execution_count": null,
   "id": "1f08b81d",
   "metadata": {},
   "outputs": [],
   "source": [
    "ak.all(ak.num(coordinates, axis=-1) == 2)"
   ]
  },
  {
   "cell_type": "markdown",
   "id": "e510ec90",
   "metadata": {},
   "source": [
    "We can convert the last axis to a \"regular array\" to represent this in the structure:"
   ]
  },
  {
   "cell_type": "code",
   "execution_count": null,
   "id": "e84c01d4",
   "metadata": {},
   "outputs": [],
   "source": [
    "coordinates = ak.to_regular(coordinates, axis=-1)\n",
    "coordinates"
   ]
  },
  {
   "cell_type": "markdown",
   "id": "037d5f4c",
   "metadata": {},
   "source": [
    "The second-to-last axis seems to be a variable length list of coordinates, representing points of route segments:"
   ]
  },
  {
   "cell_type": "code",
   "execution_count": null,
   "id": "70913524",
   "metadata": {},
   "outputs": [],
   "source": [
    "ak.num(coordinates, axis=-2)"
   ]
  },
  {
   "cell_type": "markdown",
   "id": "0c3a6ddb",
   "metadata": {},
   "source": [
    "The third-to-last (second) axis seems to be almost always of length 1:"
   ]
  },
  {
   "cell_type": "code",
   "execution_count": null,
   "id": "d0e44804",
   "metadata": {},
   "outputs": [],
   "source": [
    "ak.num(coordinates, axis=1)"
   ]
  },
  {
   "cell_type": "markdown",
   "id": "75af6f2f",
   "metadata": {},
   "source": [
    "What about the cases where it is not 1?"
   ]
  },
  {
   "cell_type": "code",
   "execution_count": null,
   "id": "db1caf55",
   "metadata": {},
   "outputs": [],
   "source": [
    "coordinates[ak.num(coordinates, axis=1) != 1]"
   ]
  },
  {
   "cell_type": "markdown",
   "id": "91a60d5e",
   "metadata": {},
   "source": [
    "Let's look at these examples:"
   ]
  },
  {
   "cell_type": "code",
   "execution_count": null,
   "id": "eeb3d8a3",
   "metadata": {},
   "outputs": [],
   "source": [
    "special_routes = coordinates[ak.num(coordinates, axis=1) != 1]"
   ]
  },
  {
   "cell_type": "code",
   "execution_count": null,
   "id": "6dbc391e",
   "metadata": {},
   "outputs": [],
   "source": [
    "ak.num(special_routes, axis=-3)"
   ]
  },
  {
   "cell_type": "markdown",
   "id": "3fa8d8c4",
   "metadata": {},
   "source": [
    "Seems these are routes that have for some reason be split up into multiple segments."
   ]
  },
  {
   "cell_type": "markdown",
   "id": "cb64b609",
   "metadata": {},
   "source": [
    "Before doing anything sophisticated, let's just flatten all segments of all routes and plot the points as a scatter plot:"
   ]
  },
  {
   "cell_type": "code",
   "execution_count": null,
   "id": "40464d8c",
   "metadata": {},
   "outputs": [],
   "source": [
    "x, y = ak.to_numpy(ak.flatten(ak.flatten(coordinates))).T\n",
    "plt.scatter(x, y, s=0.1)"
   ]
  },
  {
   "cell_type": "markdown",
   "id": "a5d0c9f5",
   "metadata": {},
   "source": [
    "Next, we want to calculate the lengths of all bike routes. Quote from the awkward tutorial:\n",
    "\n",
    "  > At Chicago’s latitude, one degree of longitude is 82.7 km and one degree of latitude is 111.1 km, which we can use   as conversion factors."
   ]
  },
  {
   "cell_type": "code",
   "execution_count": null,
   "id": "32aac029",
   "metadata": {},
   "outputs": [],
   "source": [
    "longitude, latitude = coordinates[..., 0], coordinates[..., 1]\n",
    "km_east = (longitude - np.mean(longitude)) * 82.7 # km/deg\n",
    "km_north = (latitude - np.mean(latitude)) * 111.1 # km/deg\n",
    "km_east, km_north"
   ]
  },
  {
   "cell_type": "markdown",
   "id": "3149f490",
   "metadata": {},
   "source": [
    "To get the lengths, we first to calculate the distances between each pair of consecutive coordinates"
   ]
  },
  {
   "cell_type": "markdown",
   "id": "a2980e01",
   "metadata": {},
   "source": [
    "<div class=\"alert alert-block alert-success\">\n",
    "    <b>Exercise 1:</b> Calculate the distances between each pair of consecutive coordinates.<br><br>\n",
    "    <b>Hint:</b> You can get the list of all coordinates, e.g. for the <code>km_east</code>  array, except the last one by <code>km_east[..., :-1]</code> and all but the first one by <code>km_east[..., 1:]</code><br>\n",
    "    <b>Hint 2:</b> You'll need <code>np.sqrt</code>\n",
    "</div>"
   ]
  },
  {
   "cell_type": "markdown",
   "id": "8139e990",
   "metadata": {},
   "source": [
    "<div class=\"alert alert-block alert-success\">\n",
    "    <b>Exercise 2:</b> Calculate the lengths of all segments and finally the lengths of all bike routes<br><br>\n",
    "    <b>Hint:</b> Sum the pairwise distances along the last axis (twice)\n",
    "</div>"
   ]
  },
  {
   "cell_type": "markdown",
   "id": "1d5e1a3d",
   "metadata": {},
   "source": [
    "<div class=\"alert alert-block alert-success\">\n",
    "    <b>Exercise 3:</b> Print out the 10 longest bike routes and their corresponding street names<br><br>\n",
    "    <b>Hint:</b> Use <code>np.argsort</code> and use the resulting index to select both from the route lengths and from <code>bikeroutes.features.properties.STREET</code>\n",
    "</div>"
   ]
  },
  {
   "cell_type": "markdown",
   "id": "4ea5c25d",
   "metadata": {},
   "source": [
    "# Particle physics example: Reconstruct the Higgs Boson\n",
    "\n",
    "Let's have a look at an example from particle physics. We will use a simulated dataset from the [ATLAS open data project](http://opendata.atlas.cern/):"
   ]
  },
  {
   "cell_type": "code",
   "execution_count": null,
   "id": "161581fe",
   "metadata": {},
   "outputs": [],
   "source": [
    "url = \"https://atlas-opendata.web.cern.ch/atlas-opendata/samples/2020/4lep/MC/mc_345060.ggH125_ZZ4lep.4lep.root\""
   ]
  },
  {
   "cell_type": "markdown",
   "id": "a5041a9e",
   "metadata": {},
   "source": [
    "This dataset comes in `.root` format, a commonly used file format in particle physics. You don't need to know details about this now, but there is a python library called `uproot` that can read data from these files into numpy or awkward arrays:"
   ]
  },
  {
   "cell_type": "code",
   "execution_count": null,
   "id": "0d620fde",
   "metadata": {},
   "outputs": [],
   "source": [
    "import uproot\n",
    "import io"
   ]
  },
  {
   "cell_type": "code",
   "execution_count": null,
   "id": "91d9bf27",
   "metadata": {},
   "outputs": [],
   "source": [
    "# will download ~50MB of data into memory\n",
    "# uproot could in principle read data directly via http,\n",
    "# but if we want to read the whole dataset, this is faster\n",
    "data = urllib.request.urlopen(url).read()"
   ]
  },
  {
   "cell_type": "code",
   "execution_count": null,
   "id": "58c054ff",
   "metadata": {},
   "outputs": [],
   "source": [
    "f = uproot.open(io.BytesIO(data))"
   ]
  },
  {
   "cell_type": "markdown",
   "id": "dd592425",
   "metadata": {},
   "source": [
    "The following command will read the data into a nested awkward array:"
   ]
  },
  {
   "cell_type": "code",
   "execution_count": null,
   "id": "2261ddde",
   "metadata": {},
   "outputs": [],
   "source": [
    "events = f[\"mini\"].arrays(how=\"zip\")"
   ]
  },
  {
   "cell_type": "code",
   "execution_count": null,
   "id": "3d7dbb29",
   "metadata": {},
   "outputs": [],
   "source": [
    "events.layout.form"
   ]
  },
  {
   "cell_type": "markdown",
   "id": "5e737d80",
   "metadata": {},
   "source": [
    "There are some event level quantities like the `eventNumber`, the magnitude of the missing transverse momentum in each event, `met_et` etc"
   ]
  },
  {
   "cell_type": "code",
   "execution_count": null,
   "id": "5881a006",
   "metadata": {},
   "outputs": [],
   "source": [
    "events.eventNumber"
   ]
  },
  {
   "cell_type": "code",
   "execution_count": null,
   "id": "e34bc457",
   "metadata": {},
   "outputs": [],
   "source": [
    "events.met_et"
   ]
  },
  {
   "cell_type": "markdown",
   "id": "9e8f90d4",
   "metadata": {},
   "source": [
    "And then there are nested collections of variable length, like reconstructed leptons (electrons or muons), which contain record fields themselves, like the transverse momentum, `pt`:"
   ]
  },
  {
   "cell_type": "code",
   "execution_count": null,
   "id": "5f5126fe",
   "metadata": {},
   "outputs": [],
   "source": [
    "events.lep.pt"
   ]
  },
  {
   "cell_type": "markdown",
   "id": "68a76959",
   "metadata": {},
   "source": [
    "Different collections can have different length, e.g. in this case we have almost always 4 leptons, since these are simulated decays of\n",
    "\n",
    "$$H\\rightarrow ZZ\\rightarrow \\ell\\ell\\ell\\ell$$\n",
    "\n",
    "where $\\ell\\ell\\ell\\ell$ can be $e^{+}e^{-}\\mu^{+}\\mu^{-}$ or $e^{+}e^{-}e^{+}e^{-}$ or $\\mu^{+}\\mu^{-}\\mu^{+}\\mu^{-}$"
   ]
  },
  {
   "cell_type": "code",
   "execution_count": null,
   "id": "02d5cc3b",
   "metadata": {},
   "outputs": [],
   "source": [
    "ak.num(events.lep)"
   ]
  },
  {
   "cell_type": "markdown",
   "id": "8cf3270a",
   "metadata": {},
   "source": [
    "In addition there can be an arbitrary number of \"jets\" (clustered streams of hadrons originating from a quark) in each event:"
   ]
  },
  {
   "cell_type": "code",
   "execution_count": null,
   "id": "3147eb7d",
   "metadata": {},
   "outputs": [],
   "source": [
    "ak.num(events.jet)"
   ]
  },
  {
   "cell_type": "markdown",
   "id": "ea9af4f4",
   "metadata": {},
   "source": [
    "We will now try to calculate the invariant mass of all combinations of 4 leptons, which should peak around the Higgs boson mass.\n",
    "\n",
    "For this we use the `vector` package"
   ]
  },
  {
   "cell_type": "code",
   "execution_count": null,
   "id": "d63169ab",
   "metadata": {},
   "outputs": [],
   "source": [
    "import vector"
   ]
  },
  {
   "cell_type": "markdown",
   "id": "efdc694e",
   "metadata": {},
   "source": [
    "`vector` makes use of another feature of awkward array, that is you can add \"behavior\" to records. This is used to add fields that are dynamically calculated from the data fields:"
   ]
  },
  {
   "cell_type": "code",
   "execution_count": null,
   "id": "87b0106b",
   "metadata": {},
   "outputs": [],
   "source": [
    "p4 = vector.awk(events.lep[[\"pt\", \"eta\", \"phi\", \"E\"]])"
   ]
  },
  {
   "cell_type": "markdown",
   "id": "24ace227",
   "metadata": {},
   "source": [
    "`p4` now represents a nested array of [Lorentz vectors](https://en.wikipedia.org/wiki/Four-vector):"
   ]
  },
  {
   "cell_type": "code",
   "execution_count": null,
   "id": "b9fe1677",
   "metadata": {},
   "outputs": [],
   "source": [
    "p4"
   ]
  },
  {
   "cell_type": "code",
   "execution_count": null,
   "id": "de17b076",
   "metadata": {},
   "outputs": [],
   "source": [
    "ak.num(p4)"
   ]
  },
  {
   "cell_type": "markdown",
   "id": "0eb93c59",
   "metadata": {},
   "source": [
    "We can for example dynamically calculate `px` and `py` (although our data is in `pt` and `phi` coordinates)"
   ]
  },
  {
   "cell_type": "code",
   "execution_count": null,
   "id": "2961161a",
   "metadata": {},
   "outputs": [],
   "source": [
    "p4.px, p4.py"
   ]
  },
  {
   "cell_type": "markdown",
   "id": "eab2fe36",
   "metadata": {},
   "source": [
    "To get all combinations of 4 leptons, we use the function `ak.combinations` which will return a nested list of tuples, containing the components of each combination. With `ak.unzip` we can split this up into arrays:"
   ]
  },
  {
   "cell_type": "code",
   "execution_count": null,
   "id": "9d006abf",
   "metadata": {},
   "outputs": [],
   "source": [
    "l1, l2, l3, l4 = ak.unzip(ak.combinations(p4, 4))"
   ]
  },
  {
   "cell_type": "markdown",
   "id": "842e615d",
   "metadata": {},
   "source": [
    "The invariant mass can then be calculated like this:"
   ]
  },
  {
   "cell_type": "code",
   "execution_count": null,
   "id": "ccdf53f3",
   "metadata": {},
   "outputs": [],
   "source": [
    "combined = l1 + l2 + l3 + l4"
   ]
  },
  {
   "cell_type": "code",
   "execution_count": null,
   "id": "be854560",
   "metadata": {},
   "outputs": [],
   "source": [
    "combined"
   ]
  },
  {
   "cell_type": "code",
   "execution_count": null,
   "id": "1d302621",
   "metadata": {},
   "outputs": [],
   "source": [
    "combined.mass"
   ]
  },
  {
   "cell_type": "markdown",
   "id": "6f176b03",
   "metadata": {},
   "source": [
    "This is still a nested array, since there might be multiple 4-lepton candidates per event. To get a flat list of all candidate masses we can do"
   ]
  },
  {
   "cell_type": "code",
   "execution_count": null,
   "id": "dab9065d",
   "metadata": {},
   "outputs": [],
   "source": [
    "mass_array = ak.to_numpy(ak.flatten(combined.mass))\n",
    "mass_array"
   ]
  },
  {
   "cell_type": "markdown",
   "id": "acfa4b49",
   "metadata": {},
   "source": [
    "Let's plot this as a histogram:"
   ]
  },
  {
   "cell_type": "code",
   "execution_count": null,
   "id": "ed4c9e9e",
   "metadata": {},
   "outputs": [],
   "source": [
    "import matplotlib.pyplot as plt"
   ]
  },
  {
   "cell_type": "code",
   "execution_count": null,
   "id": "3ec4b40b",
   "metadata": {},
   "outputs": [],
   "source": [
    "GeV = 1000."
   ]
  },
  {
   "cell_type": "code",
   "execution_count": null,
   "id": "26720683",
   "metadata": {},
   "outputs": [],
   "source": [
    "plt.hist(mass_array / GeV, bins=100, range=(100, 150));"
   ]
  },
  {
   "cell_type": "markdown",
   "id": "505f08cf",
   "metadata": {},
   "source": [
    "We see a peak at 125 GeV!\n",
    "\n",
    "This works nicely, since we only looked at simulated events of actual Higgs Boson decays. To find this peak in real data with huge amount of background mixed in one needs additional selection criteria.\n",
    "\n",
    "See the following notebook for a more complete example:\n",
    "\n",
    "https://github.com/atlas-outreach-data-tools/notebooks-collection-opendata/blob/master/13-TeV-examples/uproot_python/HZZAnalysis.ipynb"
   ]
  }
 ],
 "metadata": {
  "kernelspec": {
   "display_name": "Python 3 (ipykernel)",
   "language": "python",
   "name": "python3"
  },
  "language_info": {
   "codemirror_mode": {
    "name": "ipython",
    "version": 3
   },
   "file_extension": ".py",
   "mimetype": "text/x-python",
   "name": "python",
   "nbconvert_exporter": "python",
   "pygments_lexer": "ipython3",
   "version": "3.9.7"
  },
  "toc": {
   "base_numbering": 1,
   "nav_menu": {},
   "number_sections": true,
   "sideBar": true,
   "skip_h1_title": false,
   "title_cell": "Table of Contents",
   "title_sidebar": "Contents",
   "toc_cell": false,
   "toc_position": {},
   "toc_section_display": true,
   "toc_window_display": false
  }
 },
 "nbformat": 4,
 "nbformat_minor": 5
}