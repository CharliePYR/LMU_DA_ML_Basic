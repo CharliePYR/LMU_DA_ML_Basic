{
 "cells": [
  {
   "cell_type": "markdown",
   "id": "a5123dad",
   "metadata": {},
   "source": [
    "# Example: Chicago bikeroutes\n",
    "\n",
    "A nice example for a dataset to work with Awkward array is the following geojson file of bikeroutes in Chicago. It is also used in the [introduction of the awkward array documentation](https://awkward-array.org/what-is-awkward.html)."
   ]
  },
  {
   "cell_type": "code",
   "execution_count": null,
   "id": "700d881c",
   "metadata": {},
   "outputs": [],
   "source": [
    "import urllib\n",
    "import json\n",
    "\n",
    "import awkward as ak\n",
    "import numpy as np\n",
    "import matplotlib.pyplot as plt"
   ]
  },
  {
   "cell_type": "code",
   "execution_count": null,
   "id": "61513614",
   "metadata": {},
   "outputs": [],
   "source": [
    "url = \"https://raw.githubusercontent.com/Chicago/osd-bike-routes/master/data/Bikeroutes.geojson\"\n",
    "bikeroutes_json = urllib.request.urlopen(url).read()"
   ]
  },
  {
   "cell_type": "markdown",
   "id": "7833e426",
   "metadata": {},
   "source": [
    "Awkward array allows us to load this whole thing into a single array structure:"
   ]
  },
  {
   "cell_type": "code",
   "execution_count": null,
   "id": "bf82a1de",
   "metadata": {},
   "outputs": [],
   "source": [
    "bikeroutes = ak.from_json(bikeroutes_json)"
   ]
  },
  {
   "cell_type": "markdown",
   "id": "0d18c74a",
   "metadata": {},
   "source": [
    "We can navigate through the nested records (even if some of them are lists). For example, this will give us a 4-dimensional (partially variable length) list of coordinate values:"
   ]
  },
  {
   "cell_type": "code",
   "execution_count": null,
   "id": "5d85a554",
   "metadata": {},
   "outputs": [],
   "source": [
    "bikeroutes.features.geometry.coordinates"
   ]
  },
  {
   "cell_type": "code",
   "execution_count": null,
   "id": "8bac0cc2",
   "metadata": {},
   "outputs": [],
   "source": [
    "coordinates = bikeroutes.features.geometry.coordinates\n",
    "coordinates"
   ]
  },
  {
   "cell_type": "markdown",
   "id": "d47bdf02",
   "metadata": {},
   "source": [
    "Similar to `axis`, awkward tries to generalize the notion of `ndim` to variable-length lists:"
   ]
  },
  {
   "cell_type": "code",
   "execution_count": null,
   "id": "c96d11c1",
   "metadata": {},
   "outputs": [],
   "source": [
    "coordinates.ndim"
   ]
  },
  {
   "cell_type": "markdown",
   "id": "0fa6f8cc",
   "metadata": {},
   "source": [
    "Looking at the list lengths at each dimension, we can figure out what they correspond to.\n",
    "\n",
    "The last \"axis\" seems to always have length 2 - representing latitude/longitude coordinates:"
   ]
  },
  {
   "cell_type": "code",
   "execution_count": null,
   "id": "3c5cad08",
   "metadata": {},
   "outputs": [],
   "source": [
    "ak.num(coordinates, axis=-1)"
   ]
  },
  {
   "cell_type": "code",
   "execution_count": null,
   "id": "1f08b81d",
   "metadata": {},
   "outputs": [],
   "source": [
    "ak.all(ak.num(coordinates, axis=-1) == 2)"
   ]
  },
  {
   "cell_type": "markdown",
   "id": "e510ec90",
   "metadata": {},
   "source": [
    "We can convert the last axis to a \"regular array\" to represent this in the structure:"
   ]
  },
  {
   "cell_type": "code",
   "execution_count": null,
   "id": "e84c01d4",
   "metadata": {},
   "outputs": [],
   "source": [
    "coordinates = ak.to_regular(coordinates, axis=-1)\n",
    "coordinates"
   ]
  },
  {
   "cell_type": "markdown",
   "id": "037d5f4c",
   "metadata": {},
   "source": [
    "The second-to-last axis seems to be a variable length list of coordinates, representing points of route segments:"
   ]
  },
  {
   "cell_type": "code",
   "execution_count": null,
   "id": "70913524",
   "metadata": {},
   "outputs": [],
   "source": [
    "ak.num(coordinates, axis=-2)"
   ]
  },
  {
   "cell_type": "markdown",
   "id": "0c3a6ddb",
   "metadata": {},
   "source": [
    "The third-to-last (second) axis seems to be almost always of length 1:"
   ]
  },
  {
   "cell_type": "code",
   "execution_count": null,
   "id": "d0e44804",
   "metadata": {},
   "outputs": [],
   "source": [
    "ak.num(coordinates, axis=1)"
   ]
  },
  {
   "cell_type": "markdown",
   "id": "75af6f2f",
   "metadata": {},
   "source": [
    "What about the cases where it is not 1?"
   ]
  },
  {
   "cell_type": "code",
   "execution_count": null,
   "id": "db1caf55",
   "metadata": {},
   "outputs": [],
   "source": [
    "coordinates[ak.num(coordinates, axis=1) != 1]"
   ]
  },
  {
   "cell_type": "markdown",
   "id": "91a60d5e",
   "metadata": {},
   "source": [
    "Let's look at these examples:"
   ]
  },
  {
   "cell_type": "code",
   "execution_count": null,
   "id": "eeb3d8a3",
   "metadata": {},
   "outputs": [],
   "source": [
    "special_routes = coordinates[ak.num(coordinates, axis=1) != 1]"
   ]
  },
  {
   "cell_type": "code",
   "execution_count": null,
   "id": "6dbc391e",
   "metadata": {},
   "outputs": [],
   "source": [
    "ak.num(special_routes, axis=-3)"
   ]
  },
  {
   "cell_type": "markdown",
   "id": "3fa8d8c4",
   "metadata": {},
   "source": [
    "Seems these are routes that have for some reason be split up into multiple segments."
   ]
  },
  {
   "cell_type": "markdown",
   "id": "cb64b609",
   "metadata": {},
   "source": [
    "Before doing anything sophisticated, let's just flatten all segments of all routes and plot the points as a scatter plot:"
   ]
  },
  {
   "cell_type": "code",
   "execution_count": null,
   "id": "40464d8c",
   "metadata": {},
   "outputs": [],
   "source": [
    "x, y = ak.to_numpy(ak.flatten(ak.flatten(coordinates))).T\n",
    "plt.scatter(x, y, s=0.1)"
   ]
  },
  {
   "cell_type": "markdown",
   "id": "a5d0c9f5",
   "metadata": {},
   "source": [
    "Next, we want to calculate the lengths of all bike routes. Quote from the awkward tutorial:\n",
    "\n",
    "  > At Chicago’s latitude, one degree of longitude is 82.7 km and one degree of latitude is 111.1 km, which we can use   as conversion factors."
   ]
  },
  {
   "cell_type": "code",
   "execution_count": null,
   "id": "32aac029",
   "metadata": {},
   "outputs": [],
   "source": [
    "longitude, latitude = coordinates[..., 0], coordinates[..., 1]\n",
    "km_east = (longitude - np.mean(longitude)) * 82.7 # km/deg\n",
    "km_north = (latitude - np.mean(latitude)) * 111.1 # km/deg\n",
    "km_east, km_north"
   ]
  },
  {
   "cell_type": "markdown",
   "id": "3149f490",
   "metadata": {},
   "source": [
    "To get the lengths, we first to calculate the distances between each pair of consecutive coordinates"
   ]
  },
  {
   "cell_type": "markdown",
   "id": "a2980e01",
   "metadata": {},
   "source": [
    "<div class=\"alert alert-block alert-success\">\n",
    "    <b>Exercise 1:</b> Calculate the distances between each pair of coordinates.<br><br>\n",
    "    <b>Hint:</b> You can get the list of all coordinates, e.g. for the <code>km_east</code>  array, except the last one by <code>km_east[..., :-1]</code> and all but the first one by <code>km_east[..., 1:]</code><br>\n",
    "    <b>Hint 2:</b> You'll need <code>np.sqrt</code>\n",
    "</div>"
   ]
  },
  {
   "cell_type": "code",
   "execution_count": null,
   "id": "organic-barbados",
   "metadata": {},
   "outputs": [],
   "source": [
    "pairwise_distances = np.sqrt(\n",
    "    (km_east[..., :-1] - km_east[..., 1:]) ** 2\n",
    "    + (km_north[..., :-1] - km_north[..., 1:]) ** 2\n",
    ")\n",
    "pairwise_distances"
   ]
  },
  {
   "cell_type": "markdown",
   "id": "8139e990",
   "metadata": {},
   "source": [
    "<div class=\"alert alert-block alert-success\">\n",
    "    <b>Exercise 2:</b> Calculate the lengths of all segments and finally the lengths of all bike routes<br><br>\n",
    "    <b>Hint:</b> Sum the pairwise distances along the last axis (twice)\n",
    "</div>"
   ]
  },
  {
   "cell_type": "code",
   "execution_count": null,
   "id": "spatial-outreach",
   "metadata": {},
   "outputs": [],
   "source": [
    "route_lengths = ak.sum(ak.sum(pairwise_distances, axis=-1), axis=-1)\n",
    "route_lengths"
   ]
  },
  {
   "cell_type": "markdown",
   "id": "1d5e1a3d",
   "metadata": {},
   "source": [
    "<div class=\"alert alert-block alert-success\">\n",
    "    <b>Exercise 3:</b> Print out the 10 longest bike routes and their corresponding street names<br><br>\n",
    "    <b>Hint:</b> Use <code>np.argsort</code> and use the resulting index to select both from the route lengths and from <code>bikeroutes.features.properties.STREET</code>\n",
    "</div>"
   ]
  },
  {
   "cell_type": "code",
   "execution_count": null,
   "id": "leading-month",
   "metadata": {},
   "outputs": [],
   "source": [
    "for i in reversed(np.argsort(route_lengths)[-10:]):\n",
    "    print(bikeroutes.features.properties.STREET[i], route_lengths[i])"
   ]
  }
 ],
 "metadata": {
  "kernelspec": {
   "display_name": "Python 3",
   "language": "python",
   "name": "python3"
  },
  "language_info": {
   "codemirror_mode": {
    "name": "ipython",
    "version": 3
   },
   "file_extension": ".py",
   "mimetype": "text/x-python",
   "name": "python",
   "nbconvert_exporter": "python",
   "pygments_lexer": "ipython3",
   "version": "3.9.6"
  },
  "toc": {
   "base_numbering": 1,
   "nav_menu": {},
   "number_sections": true,
   "sideBar": true,
   "skip_h1_title": false,
   "title_cell": "Table of Contents",
   "title_sidebar": "Contents",
   "toc_cell": false,
   "toc_position": {},
   "toc_section_display": true,
   "toc_window_display": false
  }
 },
 "nbformat": 4,
 "nbformat_minor": 5
}