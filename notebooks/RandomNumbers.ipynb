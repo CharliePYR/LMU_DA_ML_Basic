{
 "cells": [
  {
   "cell_type": "markdown",
   "id": "ad61d371",
   "metadata": {},
   "source": [
    "# Random Numbers (on a computer)\n",
    "With material from http://www-static.etp.physik.uni-muenchen.de/kurs/comp20/ and https://henryiii.github.io/compclass/."
   ]
  },
  {
   "cell_type": "markdown",
   "id": "a0e41ee6",
   "metadata": {},
   "source": [
    "## Example 1: Buffon's needle\n",
    "* “Buffonsches Nadelproblem” (Graf G.L.L. von Buffon, 1707 – 1788)\n",
    "* draw parallel, equidistant lines (distance $d$), throw $N$ needles (length $l\\leq d$)\n",
    "* probability for needle intersecting with line: $p = l_\\text{eff}/d = l|\\cos \\phi|/d$\n",
    "* integrate, assuming flat distribution for angle $\\phi$: \n",
    "$$p = \\int_0^{2\\pi} \\frac {l \\left|\\cos {\\varphi}\\right|}{d} \\frac {\\mathrm d \\varphi}{2\\pi}=\\frac {2l}{\\pi d}$$\n",
    "* von Mises: $N_\\text{Treffer}/N \\to p$ for $N\\to\\infty$ \n",
    "$$\\tfrac{2\\cdot N \\cdot l}{N_\\text{Treffer} \\cdot d} \\rightarrow \\pi$$"
   ]
  },
  {
   "cell_type": "markdown",
   "id": "989c9470",
   "metadata": {},
   "source": [
    "What do you get for $\\pi$ here?\n",
    "![](../figures/Buffon_Streicholz_1.jpg)"
   ]
  },
  {
   "cell_type": "markdown",
   "id": "f93b203d",
   "metadata": {},
   "source": [
    "## Example 2: area of a circle\n",
    "* also here, we determine $\\pi$, but this time from the numerical integration of the area of a circle\n",
    "* approximate $\\pi$ as ratio of hits $t$ and tries $n$:\n",
    "  * $\\lim_{n\\to\\infty} t/n = \\pi / 4$ \n",
    "  * (because $A_\\text{sector}=\\pi r^2 / 4$ and $A_\\square = r^2$)"
   ]
  },
  {
   "cell_type": "markdown",
   "id": "08a0e7f2",
   "metadata": {},
   "source": [
    "How to define a circle:\n",
    "* circle = shape consisting of all points in a plane at a given distance from the center\n",
    "* unit circle, using Euclidean distance in 2-D: $x^2 + y^2 \\leq 1$\n",
    "Implementation:"
   ]
  },
  {
   "cell_type": "code",
   "execution_count": null,
   "id": "7937036e",
   "metadata": {},
   "outputs": [],
   "source": [
    "import numpy as np\n",
    "xy    = np.random.rand(2, 10000)\n",
    "valid = np.sum(xy ** 2, axis=0) < 1\n",
    "good  = xy[:, valid]\n",
    "bad   = xy[:, ~valid]"
   ]
  },
  {
   "cell_type": "code",
   "execution_count": null,
   "id": "6b20c534",
   "metadata": {},
   "outputs": [],
   "source": [
    "import matplotlib.pyplot as plt\n",
    "plt.plot(*good, \".\")\n",
    "plt.plot(*bad, \".\")\n",
    "plt.axis(\"equal\");"
   ]
  },
  {
   "cell_type": "code",
   "execution_count": null,
   "id": "75795711",
   "metadata": {},
   "outputs": [],
   "source": [
    "valid"
   ]
  },
  {
   "cell_type": "code",
   "execution_count": null,
   "id": "2de41af0",
   "metadata": {},
   "outputs": [],
   "source": [
    "np.mean(valid) * 4"
   ]
  },
  {
   "cell_type": "markdown",
   "id": "f08b93d8",
   "metadata": {},
   "source": [
    "Can easily be generalized to higher dimensions:\n",
    "* e.g. for a sphere: $x^2+y^2+z^2 \\leq 1$\n",
    "* N dimensions: $\\sum_{i=1}^N x_i^2 \\leq 1$\n",
    "\n",
    "Volume of a sphere:"
   ]
  },
  {
   "cell_type": "code",
   "execution_count": null,
   "id": "0916e357",
   "metadata": {},
   "outputs": [],
   "source": [
    "xyz   = np.random.rand(3, 10000)\n",
    "valid = np.sum(xyz ** 2, axis=0) < 1\n",
    "good  = xyz[:, valid]\n",
    "bad   = xyz[:, ~valid]\n",
    "print(\"MC:      \", np.mean(valid)*8) # explain: why MC?\n",
    "print(\"Analytic:\", 4 / 3 * np.pi)"
   ]
  },
  {
   "cell_type": "markdown",
   "id": "400dfdfe",
   "metadata": {},
   "source": []
  },
  {
   "cell_type": "markdown",
   "id": "8d73721c",
   "metadata": {},
   "source": [
    "## Generating random numbers\n",
    "We have seen that random numbers are useful / necessary to do (Monte Carlo) integrations on a computer. What is behind the `np.rand` function, i.e. how can we construct random numbers using a deterministic system like a computer?"
   ]
  },
  {
   "cell_type": "markdown",
   "id": "94925ba6",
   "metadata": {},
   "source": [
    "* first task: we need a generator for random numbers\n",
    "  * will then see that we can generate random numbers following arbitrary distributions (Gaussian, Poissonian, exponential, ...) from this\n",
    "* on a deterministic computer, we can only generate *pseudo-random numbers*\n",
    "  * special hardware for true random numbers (important for secure cryptography: attacker must not be able to infer random numbers) \n",
    "* we want these *pseudo-random numbers* to be\n",
    "  * independently and identically distributed (i.i.d.) \n",
    "  * have a long period\n",
    "  * fast to compute, easy on memory\n",
    "  * reproducible (for debugging)\n",
    "* pseudo-random numbers with these properties are suitable for our purposes (e.g. MC integration)"
   ]
  },
  {
   "cell_type": "markdown",
   "id": "e1adef38",
   "metadata": {},
   "source": [
    "### Simple random-number generator: [linear congruential generator](https://en.wikipedia.org/wiki/Linear_congruential_generator)\n",
    "* recursive definition: $I_j=(a\\cdot I_{j-1}+c) \\mod m$ \n",
    "* 3 integer constants: multiplier $a$, increment $c$, modulus $m$ \n",
    "* plus: start (or seed) value $I_0$ (*random seed*)\n",
    "* generates sequence $I_1,I_2,...$ with $0 \\leq I_j \\leq m-1$\n",
    "  * $I_j$ is periodic sequence with (maximum) period $m$\n",
    "  * $u_j = I_j/m \\in [0, 1)$"
   ]
  },
  {
   "cell_type": "code",
   "execution_count": null,
   "id": "3ff014da",
   "metadata": {},
   "outputs": [],
   "source": [
    "def lin_cong_iter(c, a, m, I_0):\n",
    "    \"\"\"implements a linear congruential generator\"\"\"\n",
    "    I_j = I_0\n",
    "\n",
    "    while True:\n",
    "        yield I_j # <- Python generator\n",
    "        I_j = (a * I_j + c) % m\n",
    "        if I_j == I_0:\n",
    "            # arrived at seed value again\n",
    "            yield I_j\n",
    "            break"
   ]
  },
  {
   "cell_type": "code",
   "execution_count": null,
   "id": "1c475c35",
   "metadata": {},
   "outputs": [],
   "source": [
    "list(lin_cong_iter(0, 3, 7, 1))"
   ]
  },
  {
   "cell_type": "markdown",
   "id": "da88125c",
   "metadata": {},
   "source": [
    "Map to range $[0,1)$:"
   ]
  },
  {
   "cell_type": "code",
   "execution_count": null,
   "id": "8cc8f36f",
   "metadata": {},
   "outputs": [],
   "source": [
    "list(i / 7 for i in lin_cong_iter(0, 3, 7, 1))"
   ]
  },
  {
   "cell_type": "markdown",
   "id": "49ad0d8e",
   "metadata": {},
   "source": [
    "Do these look random? Can you predict the next number from the previous numbers without knowing the implementation?"
   ]
  },
  {
   "cell_type": "markdown",
   "id": "1c4eb12b",
   "metadata": {},
   "source": [
    "### Testing randomness\n",
    "* correlations will spoil MC computations, results will be biased (i.e. wrong)\n",
    "* define suite of tests (e.g. [TestU01](https://en.wikipedia.org/wiki/TestU01)) that random-number generators have to pass, e.g.\n",
    "  * test flatness of distributon ($\\chi^2$ tests for sub-intervals of $[0,1)$)\n",
    "  * correlation tests ([spectral tests](https://en.wikipedia.org/wiki/Spectral_test))\n",
    "  \n",
    "Let's do a spectral test of our LCG:"
   ]
  },
  {
   "cell_type": "code",
   "execution_count": null,
   "id": "f33f155b",
   "metadata": {},
   "outputs": [],
   "source": [
    "# generate some random numbers\n",
    "lcg_numbers = list(lin_cong_iter(a=57, c=1, m=256, I_0=10))[:-1]\n",
    "print(len(lcg_numbers))"
   ]
  },
  {
   "cell_type": "code",
   "execution_count": null,
   "id": "b0e995e0",
   "metadata": {},
   "outputs": [],
   "source": [
    "# numpy's random numbers\n",
    "real_rand = np.random.randint(low = 0, high = 256, size = len(lcg_numbers))"
   ]
  },
  {
   "cell_type": "code",
   "execution_count": null,
   "id": "82ebec69",
   "metadata": {},
   "outputs": [],
   "source": [
    "# plot sequence\n",
    "fig, axs = plt.subplots(1, 2, figsize=(16, 4))\n",
    "axs[0].plot(range(len(lcg_numbers)), lcg_numbers, \"x-\", label = \"lcg_numbers\")\n",
    "axs[0].legend()\n",
    "axs[1].plot(range(len(lcg_numbers)), real_rand, \"x-\", label = \"numpy\")\n",
    "axs[1].legend()\n",
    "plt.show()"
   ]
  },
  {
   "cell_type": "markdown",
   "id": "c3c0839d",
   "metadata": {},
   "source": [
    "No visible difference."
   ]
  },
  {
   "cell_type": "code",
   "execution_count": null,
   "id": "857a58d9",
   "metadata": {},
   "outputs": [],
   "source": [
    "# flatness\n",
    "plt.hist(lcg_numbers, bins = 20, alpha = 0.5, label = \"lcg_numbers\")\n",
    "plt.hist(real_rand, bins = 20, alpha = 0.5, label = \"numpy\")\n",
    "plt.legend()\n",
    "plt.show()"
   ]
  },
  {
   "cell_type": "markdown",
   "id": "e6753bff",
   "metadata": {},
   "source": [
    "## 🤔"
   ]
  },
  {
   "cell_type": "code",
   "execution_count": null,
   "id": "ed9b0fad",
   "metadata": {},
   "outputs": [],
   "source": [
    "# spectral test in 2-D\n",
    "fig, axs = plt.subplots(1, 2, figsize=(12, 4))\n",
    "axs[0].plot(lcg_numbers[::2], lcg_numbers[1::2], \"+\", label = \"lcg_numbers\")\n",
    "axs[0].legend()\n",
    "axs[1].plot(real_rand[::2], real_rand[1::2], \"+\", label = \"numpy\")\n",
    "axs[1].legend()\n",
    "plt.show()"
   ]
  },
  {
   "cell_type": "markdown",
   "id": "3f1ad098",
   "metadata": {},
   "source": [
    "## 😲"
   ]
  },
  {
   "cell_type": "markdown",
   "id": "36a1a923",
   "metadata": {},
   "source": []
  },
  {
   "cell_type": "markdown",
   "id": "8bbd4111",
   "metadata": {},
   "source": [
    "## Random numbers with arbitrary distributions\n",
    "Now that we have a generator for i.i.d. random numbers, let's get back to the point of transforming these into random numbers for arbitrary probability distributions. We will look at:\n",
    "* inverse transform sampling (analytic, thus efficient)\n",
    "* rejection sampling (useful if inversion of PDF not possible)\n",
    "* special cases (e.g. Gaussian random numbers)"
   ]
  },
  {
   "cell_type": "markdown",
   "id": "738a6db7",
   "metadata": {},
   "source": [
    "For the inverse transform sampling, we need to compute the cumulative distribution function (CDF) $F$ for the probability distribution function (PDF) $f$ that we want to sample from: $F(x): x \\to [0,1]$, $F(x) \\,\\dot{=}\\, \\int_{-\\infty}^x f(t) \\mathrm dt$, and its inverse $F^{-1}$.\n",
    "\n",
    "Some PDFs for normal distributions:\n",
    "![](../figures/Normal_Distribution_PDF.png) \n",
    "\n",
    "Corresponding CDFs:\n",
    "![](../figures/Normal-distribution-cumulative-density-function-many.png)"
   ]
  },
  {
   "cell_type": "markdown",
   "id": "56b85450",
   "metadata": {},
   "source": [
    "[Inverse transform sampling](https://en.wikipedia.org/wiki/Inverse_transform_sampling): $F^{-1}: [0,1] \\to \\operatorname{domain}(f)$ gives random numbers $X$ distributed according to $f$ when using i.i.d. random numbers $U$ as input, $X = F^{-1}(U)$."
   ]
  },
  {
   "cell_type": "markdown",
   "id": "ee08f51e",
   "metadata": {},
   "source": [
    "### Example: exponentially distributed random numbers\n",
    "* PDF: $f(x) = \\lambda \\exp(-\\lambda x)$ for $x\\geq0$\n",
    "* CDF: $F(x) = \\int_{t_\\text{min} = 0}^{x}\\lambda \\cdot \\exp(-\\lambda\\cdot t) \\mathrm dt = [-\\exp(-\\lambda t)]_0^x =  1 - \\exp(-\\lambda \\cdot x)$ \n",
    "* inverse: $x(u) = F^{-1}(x) = -\\log(1-u)/\\lambda = -\\ln(u)/\\lambda$"
   ]
  },
  {
   "cell_type": "code",
   "execution_count": null,
   "id": "186daac4",
   "metadata": {},
   "outputs": [],
   "source": [
    "# generate\n",
    "random_u = np.random.random(300000)\n",
    "_lambda  = 2\n",
    "random_x = -np.log(random_u)/_lambda\n",
    "\n",
    "# plot\n",
    "fig, axs = plt.subplots(1, 2, figsize=(12, 4))\n",
    "axs[0].hist(random_u, bins = 30)\n",
    "axs[1].hist(random_x, bins = 30)\n",
    "axs[1].set_yscale('log')\n",
    "plt.show()"
   ]
  },
  {
   "cell_type": "code",
   "execution_count": null,
   "id": "246b36a1",
   "metadata": {},
   "outputs": [],
   "source": []
  },
  {
   "cell_type": "code",
   "execution_count": null,
   "id": "dddf6135",
   "metadata": {},
   "outputs": [],
   "source": []
  },
  {
   "cell_type": "code",
   "execution_count": null,
   "id": "a6b4ab31",
   "metadata": {},
   "outputs": [],
   "source": []
  },
  {
   "cell_type": "code",
   "execution_count": null,
   "id": "81545613",
   "metadata": {},
   "outputs": [],
   "source": []
  },
  {
   "cell_type": "markdown",
   "id": "814b9687",
   "metadata": {},
   "source": [
    "# Monte Carlo methods"
   ]
  },
  {
   "cell_type": "code",
   "execution_count": null,
   "id": "b7ae321a",
   "metadata": {},
   "outputs": [],
   "source": []
  }
 ],
 "metadata": {
  "kernelspec": {
   "display_name": "Python 3 (ipykernel)",
   "language": "python",
   "name": "python3"
  },
  "language_info": {
   "codemirror_mode": {
    "name": "ipython",
    "version": 3
   },
   "file_extension": ".py",
   "mimetype": "text/x-python",
   "name": "python",
   "nbconvert_exporter": "python",
   "pygments_lexer": "ipython3",
   "version": "3.8.10"
  }
 },
 "nbformat": 4,
 "nbformat_minor": 5
}