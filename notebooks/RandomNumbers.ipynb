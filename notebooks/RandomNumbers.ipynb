{
 "cells": [
  {
   "cell_type": "markdown",
   "id": "2fdc711a",
   "metadata": {},
   "source": [
    "# Random Numbers (on a computer)\n",
    "With material from http://www-static.etp.physik.uni-muenchen.de/kurs/comp20/ and https://henryiii.github.io/compclass/."
   ]
  },
  {
   "cell_type": "markdown",
   "id": "7510102b",
   "metadata": {},
   "source": [
    "## Example 1: Buffon's needle\n",
    "* [“Buffon's needle problem”](https://en.wikipedia.org/wiki/Buffon%27s_needle_problem) (Graf G.L.L. von Buffon, 1707 – 1788)\n",
    "* draw parallel, equidistant lines (distance $d$), throw $N$ needles (length $l\\leq d$)\n",
    "* probability for needle intersecting with line: $p_\\text{hit}(\\varphi) = l_\\text{eff}/d = l|\\cos \\varphi|/d$\n",
    "* integrate, assuming flat distribution for angle $\\varphi$: \n",
    "$$p = \\int p_\\text{hit}(\\varphi) d \\varphi \n",
    "    = \\int_0^{2\\pi} \\frac {l \\left|\\cos {\\varphi}\\right|}{d} \\frac {\\mathrm d \\varphi}{2\\pi}\n",
    "    = \\frac {l}{2\\pi d} 2 \\int_{-\\pi/2}^{\\pi/2} \\cos\\varphi \\, \\mathrm d \\varphi\n",
    "    = \\frac {2l}{\\pi d}$$\n",
    "* [von Mises](https://de.wikipedia.org/wiki/Richard_von_Mises): $N_\\text{hits}/N \\to p$ for $N\\to\\infty$ \n",
    "* use this to derive an estimate of $\\pi$ from counting $N_\\text{hits}$ as a simple Monte Carlo method:\n",
    "$$\\tfrac{2\\cdot N \\cdot l}{N_\\text{hits} \\cdot d} \\rightarrow \\pi$$"
   ]
  },
  {
   "cell_type": "markdown",
   "id": "6877ab4d",
   "metadata": {},
   "source": [
    "[![](../figures/Buffon_Streicholz_1.jpg)](https://en.wikipedia.org/wiki/File:Streicholz-Pi.jpg)\n",
    "\n",
    "<div class=\"alert alert-block alert-success\">\n",
    "    <b>Question</b>: What do you get for $\\pi$ here?\n",
    "</div>"
   ]
  },
  {
   "cell_type": "markdown",
   "id": "32618e82",
   "metadata": {},
   "source": [
    "## Example 2: area of a circle\n",
    "* also here, we determine $\\pi$, but this time from the numerical integration of the area of a circle\n",
    "* approximate $\\pi$ as ratio of hits $t$ and tries $n$:\n",
    "  * $\\lim_{n\\to\\infty} t/n = \\pi / 4$ \n",
    "  * Why does this hold?\n",
    "  \n",
    "![quarter of a unit circle in a square](../figures/quarter_circle.svg)"
   ]
  },
  {
   "cell_type": "markdown",
   "id": "6deecf68",
   "metadata": {},
   "source": [
    "How to define a circle:\n",
    "* circle = shape consisting of all points in a plane at a given distance from the center\n",
    "* unit circle, using Euclidean distance in 2-D: $x^2 + y^2 = 1$\n",
    "\n",
    "Implementation:"
   ]
  },
  {
   "cell_type": "code",
   "execution_count": null,
   "id": "5ece4d25",
   "metadata": {},
   "outputs": [],
   "source": [
    "import numpy as np\n",
    "xy    = np.random.rand(2, 10000)\n",
    "xy2   = np.sum(xy ** 2, axis=0)\n",
    "valid = xy2 <= 1 # mask to select points within the unit circle\n",
    "good  = xy[:,  valid]\n",
    "bad   = xy[:, ~valid]"
   ]
  },
  {
   "cell_type": "markdown",
   "id": "da50edb8",
   "metadata": {},
   "source": [
    "<div class=\"alert alert-block alert-info\">\n",
    "    (Think about why we need the <code>axis=0</code> here. What happens without?)\n",
    "</div>"
   ]
  },
  {
   "cell_type": "code",
   "execution_count": null,
   "id": "31ab3c76",
   "metadata": {},
   "outputs": [],
   "source": [
    "import matplotlib.pyplot as plt\n",
    "plt.plot(*good, \".\")\n",
    "plt.plot(*bad, \".\");\n",
    "#plt.axis(\"equal\");"
   ]
  },
  {
   "cell_type": "code",
   "execution_count": null,
   "id": "ca038ba6",
   "metadata": {},
   "outputs": [],
   "source": [
    "np.mean(valid) * 4"
   ]
  },
  {
   "cell_type": "markdown",
   "id": "f966313f",
   "metadata": {},
   "source": [
    "Can easily be generalized to higher dimensions:\n",
    "* e.g. for a sphere: $x^2+y^2+z^2 \\leq 1$\n",
    "* N dimensions: $\\sum_{i=1}^N x_i^2 \\leq 1$\n",
    "\n",
    "Volume of a sphere:"
   ]
  },
  {
   "cell_type": "code",
   "execution_count": null,
   "id": "e67b7250",
   "metadata": {},
   "outputs": [],
   "source": [
    "xyz   = np.random.rand(3, 10000)\n",
    "valid = np.sum(xyz ** 2, axis=0) < 1\n",
    "good  = xyz[:, valid]\n",
    "bad   = xyz[:, ~valid]\n",
    "print(\"MC:      \", np.mean(valid)*8) # explain: why MC?\n",
    "print(\"Analytic:\", 4 / 3 * np.pi)"
   ]
  },
  {
   "cell_type": "markdown",
   "id": "1966c3f3",
   "metadata": {},
   "source": [
    "Conclusion: random numbers are an important ingredient in many applications in science, in particular whenever Monte-Carlo (MC) methods can help to solve otherwise untractable problems (e.g. integrals where no analytical solution is known or over spaces with very high dimensionality). "
   ]
  },
  {
   "cell_type": "markdown",
   "id": "f4d4472b",
   "metadata": {},
   "source": [
    "[MC algorithm](https://en.wikipedia.org/wiki/Monte_Carlo_algorithm) = \"randomized algorithm whose output may be incorrect with a certain (typically small) probability\"\n",
    "* less abstract: numerical method to compute probabilities and deduced quantities using random numbers\n",
    "* mainly used for optimization, numerical integration, or generating values from a probability distribution\n",
    "  * used in statistical physics, <!-- canonical ensembles --> \n",
    "    biophysics, <!-- folding of large molecules like proteins -->\n",
    "    particle physics, <!-- GEANT4, simulation of particle collisions and particles interacting with matter -->\n",
    "    economics, <!-- risk assessment -->\n",
    "    ...\n",
    "  * useful for systems with many degrees of freedom (fluids, disordered materials, particle physics, ...)\n",
    "  * advantages: more efficient, easier to understand and implement\n",
    "  * disadvantage: may be wrong\n",
    "  * repetition reduces probability of false outcome"
   ]
  },
  {
   "cell_type": "markdown",
   "id": "c6c4260d",
   "metadata": {},
   "source": [
    "Basic principle:\n",
    "* do a large number of repeated randomized experiments\n",
    "* rely on [(weak law) of large numbers](https://en.wikipedia.org/wiki/Law_of_large_numbers#Weak_law)\n",
    "  * $\\lim\\limits_{n\\to\\infty} P\\left( \\left| \\overline X_n \\right| \\geq \\epsilon\\right) = 0$ \n",
    "  * for $\\overline X_n = \\frac1n \\sum\\limits_{i=1}^n {\\left(X_i - E(X_i)\\right)}$, where\n",
    "    $X_1, X_2, \\dots$ = infinite sequence of independent and identically distributed (i.i.d.) random variables (i.e., $E(X_i) = \\mu \\forall i$)\n",
    "<!--   * e.g. $X \\sim \\text{Ber}(p)$, $E(X_i) = p$ -->"
   ]
  },
  {
   "cell_type": "markdown",
   "id": "91da963c",
   "metadata": {},
   "source": [
    "## Generating random numbers\n",
    "We have seen that random numbers are useful / necessary to do (Monte Carlo) integrations on a computer. What is behind the `np.random` module, i.e. how can we construct random numbers using a deterministic system like a computer?"
   ]
  },
  {
   "cell_type": "markdown",
   "id": "672b7b46",
   "metadata": {},
   "source": [
    "* on a deterministic computer, we can only generate *pseudo-random numbers*\n",
    "  * special hardware for true random numbers (important for secure cryptography: attacker must not be able to infer random numbers) \n",
    "  * pseudo-random numbers sufficient for our purposes (e.g. MC integration)\n",
    "  * get true random numbers for free [here](https://www.random.org/)\n",
    "* simplest distribution is a flat distribution\n",
    "  * start by implementing a generator for random numbers with flat distribution\n",
    "  * will then see that we can generate random numbers following arbitrary distributions (Gaussian, Poissonian, exponential, ...) from this\n",
    "* to be suitable for scientific applications / MC methods, we want pseudo-random numbers to \n",
    "  * random (sufficiently independent and statistically balanced; passing tests for randomness)\n",
    "  * have a long period\n",
    "  * be fast to compute, easy on memory\n",
    "  * be reproducible (for debugging)"
   ]
  },
  {
   "cell_type": "markdown",
   "id": "1117bbfd",
   "metadata": {},
   "source": [
    "### Simple random-number generator: [linear congruential generator](https://en.wikipedia.org/wiki/Linear_congruential_generator)\n",
    "* recursive definition: $I_j=(a\\cdot I_{j-1}+c) \\mod m$ \n",
    "  * 3 integer constants: multiplier $a$, increment $c$, modulus $m$ \n",
    "  * plus: start (or seed) value $I_0$ (*random seed*)\n",
    "* generates sequence $I_1,I_2,...$ with $0 \\leq I_j \\leq m-1$\n",
    "  * $I_j$ is periodic sequence with (maximum) period $m$\n",
    "  * $u_j = I_j/m \\in [0, 1)$"
   ]
  },
  {
   "cell_type": "markdown",
   "id": "167ea90f",
   "metadata": {},
   "source": [
    "Let's implement a linear congruential generator as a true `generator` in Python:"
   ]
  },
  {
   "cell_type": "code",
   "execution_count": null,
   "id": "8a48ea90",
   "metadata": {},
   "outputs": [],
   "source": [
    "def lin_cong_iter(c, a, m, I_0):\n",
    "    \"\"\"implements a linear congruential generator\"\"\"\n",
    "    I_j = I_0\n",
    "\n",
    "    while True:\n",
    "        yield I_j # <- Python generator\n",
    "        I_j = (a * I_j + c) % m\n",
    "        if I_j == I_0:\n",
    "            # arrived at seed value again\n",
    "            yield I_j\n",
    "            break"
   ]
  },
  {
   "cell_type": "markdown",
   "id": "ade300da",
   "metadata": {},
   "source": [
    "(`yield` is like `return` in that the function returns a value when the interpreter encounters `yield`/`return`, but unlike `return`, the interpreter will store the state of the function and continue after `yield` when you call the function again. A function with `yield` statement returns a *lazy iterator*, i.e. you can loop over them (like a list) but they do not carry out the computation until asked for the result.)"
   ]
  },
  {
   "cell_type": "code",
   "execution_count": null,
   "id": "3ea1e58a",
   "metadata": {},
   "outputs": [],
   "source": [
    "# returns a generator object\n",
    "lin_cong_iter(0, 3, 7, 1)"
   ]
  },
  {
   "cell_type": "code",
   "execution_count": null,
   "id": "b2673e54",
   "metadata": {},
   "outputs": [],
   "source": [
    "list(lin_cong_iter(0, 3, 7, 1))"
   ]
  },
  {
   "cell_type": "markdown",
   "id": "c2e242ac",
   "metadata": {},
   "source": [
    "Do these look random? Can you predict the next number from the previous numbers without knowing the implementation?"
   ]
  },
  {
   "cell_type": "markdown",
   "id": "872a9483",
   "metadata": {},
   "source": [
    "Map to range $[0,1)$:"
   ]
  },
  {
   "cell_type": "code",
   "execution_count": null,
   "id": "d3b3f313",
   "metadata": {},
   "outputs": [],
   "source": [
    "list(i / 7 for i in lin_cong_iter(0, 3, 7, 1)) # special case c=0: \"multiplicative congruential generator\""
   ]
  },
  {
   "cell_type": "code",
   "execution_count": null,
   "id": "4657aba8",
   "metadata": {},
   "outputs": [],
   "source": []
  },
  {
   "cell_type": "markdown",
   "id": "e99c889c",
   "metadata": {},
   "source": [
    "### Testing randomness\n",
    "* correlations will spoil MC computations, results will be biased (i.e. wrong)\n",
    "* define suite of tests (e.g. [TestU01](https://en.wikipedia.org/wiki/TestU01)) that random-number generators have to pass, e.g.\n",
    "  * test flatness of distribution ($\\chi^2$ tests for sub-intervals of $[0,1)$)\n",
    "  * correlation tests ([spectral tests](https://en.wikipedia.org/wiki/Spectral_test))\n",
    "  \n",
    "Let's do a spectral test of our LCG:"
   ]
  },
  {
   "cell_type": "code",
   "execution_count": null,
   "id": "88c2525b",
   "metadata": {},
   "outputs": [],
   "source": [
    "# generate some random numbers\n",
    "lcg_numbers = list(lin_cong_iter(a=57, c=1, m=256, I_0=10))[:-1]\n",
    "print(len(lcg_numbers))"
   ]
  },
  {
   "cell_type": "code",
   "execution_count": null,
   "id": "f34596a7",
   "metadata": {},
   "outputs": [],
   "source": [
    "# numpy's random numbers\n",
    "real_rand = np.random.randint(low = 0, high = 256, size = len(lcg_numbers))"
   ]
  },
  {
   "cell_type": "code",
   "execution_count": null,
   "id": "eaa6377c",
   "metadata": {},
   "outputs": [],
   "source": [
    "# plot sequence\n",
    "fig, axs = plt.subplots(1, 2, figsize=(16, 4))\n",
    "axs[0].plot(range(len(lcg_numbers)), lcg_numbers, \"x-\", label = \"lcg_numbers\")\n",
    "axs[0].legend()\n",
    "axs[1].plot(range(len(lcg_numbers)), real_rand, \"x-\", label = \"numpy\")\n",
    "axs[1].legend()\n",
    "plt.show()"
   ]
  },
  {
   "cell_type": "markdown",
   "id": "d8402089",
   "metadata": {},
   "source": [
    "No visible difference."
   ]
  },
  {
   "cell_type": "code",
   "execution_count": null,
   "id": "564bb5ac",
   "metadata": {},
   "outputs": [],
   "source": [
    "# flatness\n",
    "plt.hist(lcg_numbers, bins = 20, range = (0, 255), alpha = 0.5, label = \"lcg_numbers\")\n",
    "plt.hist(real_rand, bins = 20, range = (0, 255), alpha = 0.5, label = \"numpy\")\n",
    "plt.legend()\n",
    "plt.show()"
   ]
  },
  {
   "cell_type": "markdown",
   "id": "2564c4f2",
   "metadata": {},
   "source": [
    "## 🤔"
   ]
  },
  {
   "cell_type": "markdown",
   "id": "de153967",
   "metadata": {},
   "source": [
    "<div class=\"alert alert-block alert-info\">\n",
    "    (Think about the expected size of the fluctuations for 256 total entries, taking into account that we have 20 bins.)\n",
    "</div>"
   ]
  },
  {
   "cell_type": "code",
   "execution_count": null,
   "id": "d2371b58",
   "metadata": {},
   "outputs": [],
   "source": [
    "# numpy's random numbers\n",
    "np.random.seed(105)\n",
    "real_rand = np.random.randint(low = 0, high = 256, size = len(lcg_numbers))\n",
    "# spectral test in 2-D\n",
    "fig, axs = plt.subplots(1, 2, figsize=(12, 4))\n",
    "axs[0].plot(lcg_numbers[::2], lcg_numbers[1::2], \"+\", label = \"lcg_numbers\")\n",
    "axs[0].legend()\n",
    "axs[1].plot(real_rand[::2], real_rand[1::2], \"+\", label = \"numpy\")\n",
    "axs[1].legend()\n",
    "plt.show()"
   ]
  },
  {
   "cell_type": "markdown",
   "id": "230082ff",
   "metadata": {},
   "source": [
    "## 😲"
   ]
  },
  {
   "cell_type": "code",
   "execution_count": null,
   "id": "f1edeb5c",
   "metadata": {},
   "outputs": [],
   "source": []
  },
  {
   "cell_type": "markdown",
   "id": "e0d85d77",
   "metadata": {},
   "source": [
    "## Random numbers with arbitrary distributions\n",
    "Now that we have a generator for i.i.d. random numbers, let's get back to the point of transforming these into random numbers for arbitrary probability distributions. We will look at:\n",
    "* inverse transform sampling (analytic, thus efficient)\n",
    "* rejection sampling (useful if inversion of PDF not possible)\n",
    "* special cases (e.g. Gaussian random numbers)"
   ]
  },
  {
   "cell_type": "markdown",
   "id": "4d797de1",
   "metadata": {},
   "source": [
    "### Inverse transform sampling\n",
    "The cumulative distribution function (CDF) $F$ of a random variable $X$ is defined as\n",
    "$F_{X}(x) \\dot= \\operatorname{Prob}(X \\leq x)$.\n",
    "\n",
    "The CDF for a probability density function (PDF) $f$ can be computed as \n",
    "$F(x): x \\to [0,1], F(x) \\dot{=} \\int_{-\\infty}^x f(t) {\\mathrm dt}$.\n",
    "\t\n",
    "For the inverse transform sampling, we need to compute the inverse $F^{-1}$ of the CDF $F$ of the PDF $f$ that we want to sample from."
   ]
  },
  {
   "cell_type": "markdown",
   "id": "565e5102",
   "metadata": {},
   "source": [
    "Some PDFs for normal distributions:\n",
    "![](../figures/Normal_Distribution_PDF.png) \n",
    "\n",
    "Corresponding CDFs:\n",
    "![](../figures/Normal-distribution-cumulative-density-function-many.png)"
   ]
  },
  {
   "cell_type": "markdown",
   "id": "6331b05a",
   "metadata": {},
   "source": [
    "[Inverse transform sampling](https://en.wikipedia.org/wiki/Inverse_transform_sampling): \n",
    "* $F^{-1}: [0,1] \\to \\operatorname{domain}(f)$ gives random numbers $X$ distributed according to $f$ when using i.i.d. random numbers $U$ as input, $X = F^{-1}(U)$.\n",
    "* [proof](https://en.wikipedia.org/wiki/Inverse_transform_sampling#Proof_of_correctness)"
   ]
  },
  {
   "cell_type": "markdown",
   "id": "6797f96f",
   "metadata": {},
   "source": [
    "### Example: exponentially distributed random numbers\n",
    "* PDF: $f(x) = \\lambda \\cdot \\exp(-\\lambda \\cdot x)$ for $x\\geq0$\n",
    "* CDF: $F(x) = \\int_{t_\\text{min} = 0}^{x}\\lambda \\cdot \\exp(-\\lambda\\cdot t) \\mathrm dt = [-\\exp(-\\lambda \\cdot t)]_0^x =  1 - \\exp(-\\lambda \\cdot x)$ \n",
    "* inverse: $x(u) = F^{-1}(x) = -\\ln(1-u)/\\lambda = -\\ln(u)/\\lambda$"
   ]
  },
  {
   "cell_type": "code",
   "execution_count": null,
   "id": "d751829d",
   "metadata": {},
   "outputs": [],
   "source": [
    "# generate\n",
    "random_u = np.random.random(300000)\n",
    "_lambda  = 2\n",
    "random_x = -np.log(random_u)/_lambda\n",
    "\n",
    "# plot\n",
    "fig, axs = plt.subplots(1, 2, figsize=(12, 4))\n",
    "axs[0].hist(random_u, bins = 30)\n",
    "axs[1].hist(random_x, bins = 30)\n",
    "axs[1].set_yscale('log')\n",
    "plt.show()"
   ]
  },
  {
   "cell_type": "code",
   "execution_count": null,
   "id": "9dad36fc",
   "metadata": {},
   "outputs": [],
   "source": [
    "# detour: how to invert with sympy\n",
    "import sympy\n",
    "t, x, l, u = sympy.symbols(\"t x lambda u\")\n",
    "f = l*sympy.exp(-l*t)\n",
    "f"
   ]
  },
  {
   "cell_type": "code",
   "execution_count": null,
   "id": "886393c8",
   "metadata": {},
   "outputs": [],
   "source": [
    "F = sympy.integrate(f, (t, 0, x))\n",
    "F"
   ]
  },
  {
   "cell_type": "code",
   "execution_count": null,
   "id": "ee4b54f8",
   "metadata": {},
   "outputs": [],
   "source": [
    "from sympy import solve, simplify\n",
    "solve(F-u, x)[0]"
   ]
  },
  {
   "cell_type": "markdown",
   "id": "87f0c27d",
   "metadata": {},
   "source": [
    "<div class=\"alert alert-block alert-info\">\n",
    "    (Is this the same as our result? Which assumption have we made above that <code>sympy</code> does not know about?)\n",
    "</div>"
   ]
  },
  {
   "cell_type": "markdown",
   "id": "2f077c3a",
   "metadata": {},
   "source": [
    "### Rejection sampling (Example: Gaussian distributed random numbers)\n",
    "For a Gaussian distribution $f(x) = \\exp(-x^2/2) / \\sqrt{2\\pi}$, there is no analytic inverse of the CDF, so we cannot use inverse transform sampling. Instead, we will introduce [rejection sampling](https://en.wikipedia.org/wiki/Rejection_sampling). The principle is the same as what we used to compute the area of a circle above. In its simplest form:\n",
    "* define the range to draw samples from, $[x_\\text{min}, x_\\text{max}]$\n",
    "* determine the maximum value of the PDF, $f_\\text{max}$, over this range\n",
    "* draw two i.i.d. random numbers $u_1$, $u_2$, map $u_1$ to $u_1' \\in [x_\\text{min}, x_\\text{max}]$ and $u_2$ to $u_2' \\in [0, f_\\text{max}]$\n",
    "* if $u_2' < f(u_1')$, accept $u_1'$ as a sample from $f(x)$, otherwise repeat"
   ]
  },
  {
   "cell_type": "code",
   "execution_count": null,
   "id": "b8326247",
   "metadata": {},
   "outputs": [],
   "source": [
    "def f(x):\n",
    "    # note: ufunc\n",
    "    return np.exp(-x**2/2) / np.sqrt(2*np.pi)\n",
    "\n",
    "# ranges\n",
    "xmin  = -3\n",
    "xmax  = +3\n",
    "fmax  = 0.5\n",
    "# uniforms\n",
    "xs    = xmin + np.random.random(10000) * (xmax-xmin) # u1'\n",
    "ys    = np.random.random(10000) * fmax # u2'\n",
    "# accept or reject\n",
    "valid = ys < f(xs)"
   ]
  },
  {
   "cell_type": "code",
   "execution_count": null,
   "id": "2f972ce5",
   "metadata": {},
   "outputs": [],
   "source": [
    "# plot\n",
    "plt.plot(xs[ valid], ys[ valid], \".\")\n",
    "plt.plot(xs[~valid], ys[~valid], \".\");"
   ]
  },
  {
   "cell_type": "markdown",
   "id": "65e3e46f",
   "metadata": {},
   "source": [
    "This is quite inefficient, in particular if the fraction of our sampling box covered by the area under $f(x)$ is small:"
   ]
  },
  {
   "cell_type": "code",
   "execution_count": null,
   "id": "75e90b28",
   "metadata": {},
   "outputs": [],
   "source": [
    "print(\"Acceptance rate:\", sum(valid) / len(valid))"
   ]
  },
  {
   "cell_type": "markdown",
   "id": "b1d52c4f",
   "metadata": {},
   "source": [
    "Ideas to improve this are *importance sampling* (sample subranges with large $f(x)$ with higher frequency) or to approximate the function with a known (strictly smaller) analytic function and draw samples from this (and the remainder if large)."
   ]
  },
  {
   "cell_type": "markdown",
   "id": "88c12f40",
   "metadata": {},
   "source": [
    "For special cases, there may be more efficient alternatives. One example for the Gaussian distribution is the [Box-Muller method](https://en.wikipedia.org/wiki/Box%E2%80%93Muller_transform), which can produce 2 random Gaussian-distributed numbers from 2 i.i.d. input random numbers:"
   ]
  },
  {
   "cell_type": "code",
   "execution_count": null,
   "id": "7b6edbb4",
   "metadata": {},
   "outputs": [],
   "source": [
    "def BoxMuller(u1, u2):\n",
    "    \"\"\"Box–Muller transform (basic form)\"\"\"\n",
    "    # two random numbers in, two out\n",
    "    f1 = np.sqrt(-2*np.log(u1))\n",
    "    f2 = 2*np.pi*u2\n",
    "    gauss1 = f1 * np.cos(f2)\n",
    "    gauss2 = f1 * np.sin(f2)\n",
    "    return gauss1, gauss2"
   ]
  },
  {
   "cell_type": "code",
   "execution_count": null,
   "id": "5f5a6db3",
   "metadata": {},
   "outputs": [],
   "source": [
    "u1 = np.random.random(10000)\n",
    "u2 = np.random.random(10000)\n",
    "g = BoxMuller(u1, u2)\n",
    "#plt.hist(u2, bins = 20);\n",
    "plt.hist(np.concatenate(g), bins = 20);"
   ]
  },
  {
   "cell_type": "markdown",
   "id": "c5f1cd64",
   "metadata": {},
   "source": [
    "<div class=\"alert alert-block alert-success\">\n",
    "    Task: do a fit of this distribution with a Gaussian (we'll discuss fitting in the next notebook).)\n",
    "</div>"
   ]
  }
 ],
 "metadata": {
  "@webio": {
   "lastCommId": null,
   "lastKernelId": null
  },
  "kernelspec": {
   "display_name": "Python 3",
   "language": "python",
   "name": "python3"
  },
  "language_info": {
   "codemirror_mode": {
    "name": "ipython",
    "version": 3
   },
   "file_extension": ".py",
   "mimetype": "text/x-python",
   "name": "python",
   "nbconvert_exporter": "python",
   "pygments_lexer": "ipython3",
   "version": "3.9.7"
  }
 },
 "nbformat": 4,
 "nbformat_minor": 5
}