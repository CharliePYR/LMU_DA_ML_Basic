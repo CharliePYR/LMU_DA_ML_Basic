{
 "cells": [
  {
   "cell_type": "code",
   "execution_count": null,
   "id": "9318ea8a",
   "metadata": {},
   "outputs": [],
   "source": [
    "import numpy as np\n",
    "import matplotlib.pyplot as plt\n",
    "from scipy.optimize import minimize, curve_fit"
   ]
  },
  {
   "cell_type": "markdown",
   "id": "71363614",
   "metadata": {},
   "source": [
    "# Goodness of fit"
   ]
  },
  {
   "cell_type": "markdown",
   "id": "bb3aca8c",
   "metadata": {},
   "source": [
    "Let's have a look at these data points (this time with uncertainties):"
   ]
  },
  {
   "cell_type": "code",
   "execution_count": null,
   "id": "76316857",
   "metadata": {},
   "outputs": [],
   "source": [
    "x_data = np.array([1.0, 2.0, 3.0, 4.0, 5.0, 6.0, 7.0, 8.0, 9.0])\n",
    "y_data = np.array([2.7, 3.9, 5.5, 5.8, 6.5, 6.3, 6.7, 6.2, 6.0])\n",
    "yerr_data = np.array([0.3, 0.5, 0.7, 0.6, 0.4, 0.3, 0.7, 0.8, 0.5])"
   ]
  },
  {
   "cell_type": "code",
   "execution_count": null,
   "id": "97d318c9",
   "metadata": {},
   "outputs": [],
   "source": [
    "plt.errorbar(x_data, y_data, yerr=yerr_data, fmt=\"ko\")"
   ]
  },
  {
   "cell_type": "markdown",
   "id": "c0d89085",
   "metadata": {},
   "source": [
    "And fit a line again:"
   ]
  },
  {
   "cell_type": "code",
   "execution_count": null,
   "id": "e3fe8b64",
   "metadata": {},
   "outputs": [],
   "source": [
    "def f_linear(x, a, b):\n",
    "    return a * x + b"
   ]
  },
  {
   "cell_type": "code",
   "execution_count": null,
   "id": "9f1367a9",
   "metadata": {},
   "outputs": [],
   "source": [
    "pfit, pcov = curve_fit(f_linear, x_data, y_data, sigma=yerr_data, absolute_sigma=True)"
   ]
  },
  {
   "cell_type": "code",
   "execution_count": null,
   "id": "642d7989",
   "metadata": {},
   "outputs": [],
   "source": [
    "plt.errorbar(x_data, y_data, yerr=yerr_data, fmt=\"ko\")\n",
    "plt.plot(x_data, f_linear(x_data, *pfit))"
   ]
  },
  {
   "cell_type": "markdown",
   "id": "86675e46",
   "metadata": {},
   "source": [
    "That doesn't look very great. How can we quantify the quality of this fit? We look at our $\\chi^2$ statistic:"
   ]
  },
  {
   "cell_type": "code",
   "execution_count": null,
   "id": "e49c44a3",
   "metadata": {},
   "outputs": [],
   "source": [
    "def f_chi2(f, params, x, y, yerr):\n",
    "    return (((f(x, *params) - y) / yerr) ** 2).sum()"
   ]
  },
  {
   "cell_type": "code",
   "execution_count": null,
   "id": "dab4c201",
   "metadata": {},
   "outputs": [],
   "source": [
    "f_chi2(f_linear, pfit, x_data, y_data, yerr_data)"
   ]
  },
  {
   "cell_type": "markdown",
   "id": "e495a46b",
   "metadata": {},
   "source": [
    "Reminder: As a rule of thumb, the number of degrees of freedom \"ndf\" (number of data points - number of parameters) should be roughly equal to the $\\chi^2$ statistic."
   ]
  },
  {
   "cell_type": "code",
   "execution_count": null,
   "id": "b4d75ce0",
   "metadata": {},
   "outputs": [],
   "source": [
    "len(x_data) - len(pfit)"
   ]
  },
  {
   "cell_type": "markdown",
   "id": "bc292585",
   "metadata": {},
   "source": [
    "So this rule of thumb already indicates this is not a very nice fit. We can be even more quantitative. This rule comes from the fact that the $\\chi^2$ statistic actually follows a [Chi-squared distribution](https://en.wikipedia.org/wiki/Chi-squared_distribution) (which has ndf as expectation value) if we assume the data points follow a normal distribution. Using this we can calculate a p-value that answers the question \"how often would we get such a high value of $\\chi^2$ in repeated experiments, given that our function describes the data\".\n",
    "\n",
    "Scipy provides functions for common probability density functions among which there is also the chi-squared distribution. What we want to calculate is\n",
    "\n",
    "$$p = \\int\\limits_{\\chi^2_\\mathrm{min}}^{\\infty}f(\\chi^2, \\mathrm{ndf})\\mathrm{d}\\chi^2 = 1 - F(\\chi^2_\\mathrm{min}, \\mathrm{ndf})$$\n",
    "\n",
    "where $F(\\chi^2_\\mathrm{min}, \\mathrm{ndf})$ is the cumulative distribution function of a chi-squared distribution which we can calculate using `scipy.stats.chi2.cdf`:"
   ]
  },
  {
   "cell_type": "code",
   "execution_count": null,
   "id": "0ac0ef77",
   "metadata": {},
   "outputs": [],
   "source": [
    "import scipy.stats"
   ]
  },
  {
   "cell_type": "code",
   "execution_count": null,
   "id": "9490ed0f",
   "metadata": {},
   "outputs": [],
   "source": [
    "def chi2_pvalue(chi2, ndf):\n",
    "    return 1 - scipy.stats.chi2.cdf(chi2, ndf)"
   ]
  },
  {
   "cell_type": "code",
   "execution_count": null,
   "id": "61eab013",
   "metadata": {},
   "outputs": [],
   "source": [
    "chi2_pvalue(\n",
    "    f_chi2(f_linear, pfit, x_data, y_data, yerr_data),\n",
    "    len(x_data) - len(pfit)\n",
    ")"
   ]
  },
  {
   "cell_type": "markdown",
   "id": "662b9b55",
   "metadata": {},
   "source": [
    "which is rather low, again indicating a bad fit!"
   ]
  },
  {
   "cell_type": "markdown",
   "id": "bd7e4089",
   "metadata": {},
   "source": [
    "<div class=\"alert alert-block alert-success\">\n",
    "    <b>Exercise</b> Fit a quadratic function to the data. What is $\\chi^2 / \\mathrm{ndf}$ now? What is the p-value?\n",
    "</div>"
   ]
  },
  {
   "cell_type": "code",
   "execution_count": null,
   "id": "literary-warrant",
   "metadata": {},
   "outputs": [],
   "source": [
    "def f_quadratic(x, a, b, c):\n",
    "    return a * x ** 2 + b * x + c"
   ]
  },
  {
   "cell_type": "code",
   "execution_count": null,
   "id": "innocent-survey",
   "metadata": {},
   "outputs": [],
   "source": [
    "pfit_q, pcov_q = curve_fit(f_quadratic, x_data, y_data, sigma=yerr_data, absolute_sigma=True)"
   ]
  },
  {
   "cell_type": "code",
   "execution_count": null,
   "id": "excessive-feeling",
   "metadata": {},
   "outputs": [],
   "source": [
    "plt.errorbar(x_data, y_data, yerr=yerr_data, fmt=\"ko\")\n",
    "x = np.linspace(1, 9, 100)\n",
    "plt.plot(x, f_quadratic(x, *pfit_q))"
   ]
  },
  {
   "cell_type": "code",
   "execution_count": null,
   "id": "republican-register",
   "metadata": {},
   "outputs": [],
   "source": [
    "chi2 = f_chi2(f_quadratic, pfit_q, x_data, y_data, yerr_data)\n",
    "ndf = len(x_data) - 3\n",
    "chi2, ndf, chi2 / ndf"
   ]
  },
  {
   "cell_type": "code",
   "execution_count": null,
   "id": "german-beauty",
   "metadata": {},
   "outputs": [],
   "source": [
    "chi2_pvalue(chi2, ndf)"
   ]
  },
  {
   "cell_type": "code",
   "execution_count": null,
   "id": "measured-isolation",
   "metadata": {},
   "outputs": [],
   "source": []
  },
  {
   "cell_type": "code",
   "execution_count": null,
   "id": "random-financing",
   "metadata": {},
   "outputs": [],
   "source": []
  },
  {
   "cell_type": "code",
   "execution_count": null,
   "id": "therapeutic-bruce",
   "metadata": {},
   "outputs": [],
   "source": []
  },
  {
   "cell_type": "code",
   "execution_count": null,
   "id": "7b6edbb4",
   "metadata": {},
   "outputs": [],
   "source": [
    "def BoxMuller(u1, u2):\n",
    "    \"\"\"Box–Muller transform (basic form)\"\"\"\n",
    "    # two random numbers in, two out\n",
    "    f1 = np.sqrt(-2*np.log(u1))\n",
    "    f2 = 2*np.pi*u2\n",
    "    gauss1 = f1 * np.cos(f2)\n",
    "    gauss2 = f1 * np.sin(f2)\n",
    "    return gauss1, gauss2"
   ]
  },
  {
   "cell_type": "code",
   "execution_count": null,
   "id": "5f5a6db3",
   "metadata": {},
   "outputs": [],
   "source": [
    "u1 = np.random.random(10000)\n",
    "u2 = np.random.random(10000)\n",
    "g = BoxMuller(u1, u2)\n",
    "g = np.concatenate(g)\n",
    "hist, edges = np.histogram(g, bins=20)\n",
    "centers = edges[:-1] + 0.5 * (edges[1:] - edges[:-1])\n",
    "errors = np.sqrt(hist)\n",
    "plt.errorbar(centers, hist, yerr=errors, fmt=\"ko\")"
   ]
  },
  {
   "cell_type": "code",
   "execution_count": null,
   "id": "directed-membership",
   "metadata": {},
   "outputs": [],
   "source": [
    "def gaussian(x, a, sigma, mu):\n",
    "    return a / (np.sqrt(2 * np.pi) * sigma) * np.exp(- 0.5 * ((x - mu) / sigma) ** 2)"
   ]
  },
  {
   "cell_type": "code",
   "execution_count": null,
   "id": "republican-transmission",
   "metadata": {},
   "outputs": [],
   "source": [
    "pfit, pcov = curve_fit(gaussian, centers, hist, sigma=errors, absolute_sigma=True, p0=(1000, 1, 0))"
   ]
  },
  {
   "cell_type": "code",
   "execution_count": null,
   "id": "greek-bridal",
   "metadata": {},
   "outputs": [],
   "source": [
    "plt.errorbar(centers, hist, yerr=errors, fmt=\"ko\")\n",
    "x = np.linspace(-5, 5, 100)\n",
    "plt.plot(x, gaussian(x, *pfit))"
   ]
  },
  {
   "cell_type": "code",
   "execution_count": null,
   "id": "heard-interest",
   "metadata": {},
   "outputs": [],
   "source": [
    "ndf = len(centers) - 3\n",
    "chi2 = (((gaussian(centers, *pfit) - hist) / errors) ** 2).sum()\n",
    "chi2 / ndf"
   ]
  },
  {
   "cell_type": "code",
   "execution_count": null,
   "id": "declared-orlando",
   "metadata": {},
   "outputs": [],
   "source": [
    "chi2_pvalue(chi2, ndf)"
   ]
  },
  {
   "cell_type": "code",
   "execution_count": null,
   "id": "emerging-domain",
   "metadata": {},
   "outputs": [],
   "source": [
    "scipy.stats.norm.fit(g)"
   ]
  },
  {
   "cell_type": "code",
   "execution_count": null,
   "id": "central-german",
   "metadata": {},
   "outputs": [],
   "source": [
    "g.mean(), g.std()"
   ]
  }
 ],
 "metadata": {
  "kernelspec": {
   "display_name": "Python 3",
   "language": "python",
   "name": "python3"
  },
  "language_info": {
   "codemirror_mode": {
    "name": "ipython",
    "version": 3
   },
   "file_extension": ".py",
   "mimetype": "text/x-python",
   "name": "python",
   "nbconvert_exporter": "python",
   "pygments_lexer": "ipython3",
   "version": "3.9.6"
  },
  "toc": {
   "base_numbering": 1,
   "nav_menu": {},
   "number_sections": true,
   "sideBar": true,
   "skip_h1_title": false,
   "title_cell": "Table of Contents",
   "title_sidebar": "Contents",
   "toc_cell": false,
   "toc_position": {
    "height": "calc(100% - 180px)",
    "left": "10px",
    "top": "150px",
    "width": "165px"
   },
   "toc_section_display": true,
   "toc_window_display": false
  }
 },
 "nbformat": 4,
 "nbformat_minor": 5
}